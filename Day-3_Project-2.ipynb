{
 "cells": [
  {
   "cell_type": "markdown",
   "id": "20ce1438-5937-4b99-bf9f-7c8b8fe5487d",
   "metadata": {},
   "source": [
    "## 💰 Bank Account Management System\r\n",
    "\r\n",
    "### 📝 Description\r\n",
    "Design a `BankAccount` class to simulate basic banking operations. This system should support core functionalities such as deposits, withdrawals, balance inquiries, and maintaining a transaction history.\r\n",
    "\r\n",
    "---\r\n",
    "\r\n",
    "### 🔧 Features\r\n",
    "\r\n",
    "- **Attributes:**\r\n",
    "  - `account_number` (Unique identifier)\r\n",
    "  - `account_holder_name`\r\n",
    "  - `balance`\r\n",
    "  - `transaction_history` (List of transaction strings)\r\n",
    "\r\n",
    "- **Methods:**\r\n",
    "  - `__init__(...)` → Initialize account with details.\r\n",
    "  - `deposit(amount)` → Add funds and log the transaction.\r\n",
    "  - `withdraw(amount)` → Deduct funds if sufficient and log the transaction.\r\n",
    "  - `get_balance()` → Return the current account balance.\r\n",
    "  - `get_transaction_history()` → Return the list of all past transactions.\r\n",
    "  - `__str__()` → Nicely format on `account_number`.\r\n",
    "  - `transfer(target_account, amount)` → *(Bonus)* Transfer funds to another account.\r\n",
    "\r\n",
    "---\r\n",
    "\r\n",
    "### 📌 Example Transaction History:\r\n",
    "```python\r\n",
    "[\"Deposited $100\", \"Withdrew $50\", \"Transferred $30 to Account #987654\"]\r\n"
   ]
  },
  {
   "cell_type": "code",
   "execution_count": 1,
   "id": "1d6e9393-8fdb-4031-8795-5c06632c2297",
   "metadata": {},
   "outputs": [],
   "source": [
    "class BankAccount:\n",
    "    def __init__(self,account_number,account_holder_name,balance=0):\n",
    "        self.transaction_history = []\n",
    "        self.account_number = account_number\n",
    "        self.account_holder_name = account_holder_name\n",
    "        self.balance = float(balance)\n",
    "\n",
    "        if balance > 0:\n",
    "            self.transaction_history.append(f\"initial balance: ${balance}\")"
   ]
  },
  {
   "cell_type": "code",
   "execution_count": 2,
   "id": "d888eaa5-ba6f-4e05-8fb6-56a9610055fd",
   "metadata": {},
   "outputs": [],
   "source": [
    "user = BankAccount(123,\"Zain\",500)"
   ]
  },
  {
   "cell_type": "code",
   "execution_count": 3,
   "id": "1e48a422-0b66-4bb2-9bec-38bbff6ce170",
   "metadata": {},
   "outputs": [
    {
     "data": {
      "text/plain": [
       "['initial balance: $500']"
      ]
     },
     "execution_count": 3,
     "metadata": {},
     "output_type": "execute_result"
    }
   ],
   "source": [
    "user.transaction_history"
   ]
  },
  {
   "cell_type": "code",
   "execution_count": 4,
   "id": "c3bf6e65-1b74-41ad-a2da-31565dc9e1fb",
   "metadata": {},
   "outputs": [
    {
     "data": {
      "text/plain": [
       "123"
      ]
     },
     "execution_count": 4,
     "metadata": {},
     "output_type": "execute_result"
    }
   ],
   "source": [
    "user.account_number"
   ]
  },
  {
   "cell_type": "code",
   "execution_count": 5,
   "id": "57f6c334-e53e-4990-b3ea-4f5726d804e1",
   "metadata": {},
   "outputs": [
    {
     "data": {
      "text/plain": [
       "500.0"
      ]
     },
     "execution_count": 5,
     "metadata": {},
     "output_type": "execute_result"
    }
   ],
   "source": [
    "user.balance"
   ]
  },
  {
   "cell_type": "code",
   "execution_count": 6,
   "id": "e43f8681-1d53-4741-96cd-dfd07885ef0a",
   "metadata": {},
   "outputs": [],
   "source": [
    "class BankAccount:\n",
    "    def __init__(self,account_number,account_holder_name,balance=0):\n",
    "        self.transaction_history = []\n",
    "        self.account_number = account_number\n",
    "        self.account_holder_name = account_holder_name\n",
    "        self.balance = float(balance)\n",
    "        if balance > 0:\n",
    "            self.transaction_history.append(f\"initial balance: ${balance}\")\n",
    "\n",
    "    def deposit(self, amount):\n",
    "        \"\"\"\n",
    "        Deposit money into the account and update transaction history.\n",
    "        \n",
    "        Args:\n",
    "            amount (float): Amount to deposit.\n",
    "            \n",
    "        \"\"\"\n",
    "        try:\n",
    "            amount = float(amount)  # Convert amount to float\n",
    "            if amount <= 0:\n",
    "                print(\"Error: Deposit amount must be positive.\")\n",
    "                return False\n",
    "            self.balance += amount\n",
    "            self.transaction_history.append(f\"Deposited: ${amount:.2f}\")\n",
    "            return \"Deposited Successfully!!\"\n",
    "        except (ValueError, TypeError):\n",
    "            print(\"Error: Invalid deposit amount.\")\n",
    "            return False"
   ]
  },
  {
   "cell_type": "code",
   "execution_count": 7,
   "id": "ce4b7ccf-e6ae-49f1-8df2-b48613e3646c",
   "metadata": {},
   "outputs": [],
   "source": [
    "user = BankAccount(123,\"Zain\",500)"
   ]
  },
  {
   "cell_type": "code",
   "execution_count": 8,
   "id": "0f0e24ab-7946-464e-b387-659bbc19216c",
   "metadata": {},
   "outputs": [
    {
     "data": {
      "text/plain": [
       "'Deposited Successfully!!'"
      ]
     },
     "execution_count": 8,
     "metadata": {},
     "output_type": "execute_result"
    }
   ],
   "source": [
    "user.deposit(500)"
   ]
  },
  {
   "cell_type": "code",
   "execution_count": 9,
   "id": "6a2560eb-928e-4817-8792-61496eb6f5e9",
   "metadata": {},
   "outputs": [],
   "source": [
    "class BankAccount:\n",
    "    def __init__(self,account_number,account_holder_name,balance=0):\n",
    "        self._transaction_history = [] \n",
    "        self._account_number = account_number\n",
    "        self._account_holder_name = account_holder_name\n",
    "        self._balance = float(balance)\n",
    "        if balance > 0:\n",
    "            self._transaction_history.append(f\"initial balance: ${balance}\")\n",
    "\n",
    "    def deposit(self, amount):\n",
    "        \"\"\"\n",
    "        Deposit money into the account and update transaction history.\n",
    "        \n",
    "        Args:\n",
    "            Amount to deposit.\n",
    "            \n",
    "        \"\"\"\n",
    "        try:\n",
    "            amount = float(amount)  # Convert amount to float\n",
    "            if amount <= 0:\n",
    "                print(\"Error: Deposit amount must be positive.\")\n",
    "            self._balance += amount\n",
    "            self._transaction_history.append(f\"Deposited: ${amount:.2f}\")\n",
    "            return \"Deposited Successfully!!\"\n",
    "        except (ValueError, TypeError):\n",
    "            print(\"Error: Invalid deposit amount.\")\n",
    "           \n",
    "    def withdraw(self, amount):\n",
    "        \"\"\"\n",
    "        Withdraw money from the account, deducting the amount from the balance \n",
    "        and update the transaction history\n",
    "\n",
    "        Args:\n",
    "            Amount to withdraw\n",
    "        \"\"\"\n",
    "\n",
    "        try:\n",
    "            amount = float(amount)\n",
    "            if amount <= 0 :\n",
    "                print(\"Error: Withdraw amount must be positive\")\n",
    "            self._balance -= amount\n",
    "            self._transaction_history.append(f\"Withdrew: ${amount:.2f}\")\n",
    "            return \"Withdrew Successfully!\"\n",
    "        except (ValueError, TypeError):\n",
    "            print(\"Error: Invalid deposit amount.\")\n",
    "            "
   ]
  },
  {
   "cell_type": "code",
   "execution_count": 10,
   "id": "cd9c970d-83f0-492f-9e6c-7abe10d93a66",
   "metadata": {},
   "outputs": [],
   "source": [
    "user = BankAccount(123,\"Zain\",500)"
   ]
  },
  {
   "cell_type": "code",
   "execution_count": 11,
   "id": "61aacaba-2dd7-4514-b450-463b15d0bcf6",
   "metadata": {},
   "outputs": [
    {
     "data": {
      "text/plain": [
       "'Withdrawed Successfully!'"
      ]
     },
     "execution_count": 11,
     "metadata": {},
     "output_type": "execute_result"
    }
   ],
   "source": [
    "user.withdraw(250)"
   ]
  },
  {
   "cell_type": "code",
   "execution_count": 12,
   "id": "ef6c20de-c646-4eff-9ed7-9b8123c57bc7",
   "metadata": {},
   "outputs": [
    {
     "data": {
      "text/plain": [
       "['initial balance: $500', 'Withdrawed: $250.00']"
      ]
     },
     "execution_count": 12,
     "metadata": {},
     "output_type": "execute_result"
    }
   ],
   "source": [
    "user._transaction_history"
   ]
  },
  {
   "cell_type": "code",
   "execution_count": 13,
   "id": "f9976296-bc2f-4425-ab9b-625b4f9810f7",
   "metadata": {},
   "outputs": [
    {
     "data": {
      "text/plain": [
       "250.0"
      ]
     },
     "execution_count": 13,
     "metadata": {},
     "output_type": "execute_result"
    }
   ],
   "source": [
    "user._balance"
   ]
  },
  {
   "cell_type": "code",
   "execution_count": 14,
   "id": "ef5af934-3033-4197-82c6-f7488cf5509b",
   "metadata": {},
   "outputs": [],
   "source": [
    "class BankAccount:\n",
    "    def __init__(self,account_number,account_holder_name,balance=0):\n",
    "        self._transaction_history = [] \n",
    "        self._account_number = account_number\n",
    "        self._account_holder_name = account_holder_name\n",
    "        self._balance = float(balance)\n",
    "        if balance > 0:\n",
    "            self._transaction_history.append(f\"initial balance: ${balance}\")\n",
    "\n",
    "    def deposit(self, amount):\n",
    "        \"\"\"\n",
    "        Deposit money into the account and update transaction history.\n",
    "        \n",
    "        Args:\n",
    "            Amount to deposit.\n",
    "            \n",
    "        \"\"\"\n",
    "        try:\n",
    "            amount = float(amount)  # Convert amount to float\n",
    "            if amount <= 0:\n",
    "                print(\"Error: Deposit amount must be positive.\")\n",
    "            self._balance += amount\n",
    "            self._transaction_history.append(f\"Deposited: ${amount:.2f}\")\n",
    "            return \"Deposited Successfully!!\"\n",
    "        except (ValueError, TypeError):\n",
    "            print(\"Error: Invalid deposit amount.\")\n",
    "           \n",
    "    def withdraw(self, amount):\n",
    "        \"\"\"\n",
    "        Withdraw money from the account, deducting the amount from the balance \n",
    "        and update the transaction history\n",
    "\n",
    "        Args:\n",
    "            Amount to withdraw\n",
    "        \"\"\"\n",
    "\n",
    "        try:\n",
    "            amount = float(amount)\n",
    "            if amount <= 0 :\n",
    "                print(\"Error: Withdraw amount must be positive\")\n",
    "            self._balance -= amount\n",
    "            self._transaction_history.append(f\"Withdrew: ${amount:.2f}\")\n",
    "            return \"Withdrew Successfully!\"\n",
    "        except (ValueError, TypeError):\n",
    "            print(\"Error: Invalid deposit amount.\")\n",
    "\n",
    "    def get_balance(self):\n",
    "        return self._balance"
   ]
  },
  {
   "cell_type": "code",
   "execution_count": 15,
   "id": "be6a907b-aa0c-4b8b-89ff-b4aeae907358",
   "metadata": {},
   "outputs": [],
   "source": [
    "user = BankAccount(123,\"Zain\",500)"
   ]
  },
  {
   "cell_type": "code",
   "execution_count": 16,
   "id": "132eb9f2-56a0-4fb4-8690-c3e1f3211a08",
   "metadata": {},
   "outputs": [
    {
     "data": {
      "text/plain": [
       "500.0"
      ]
     },
     "execution_count": 16,
     "metadata": {},
     "output_type": "execute_result"
    }
   ],
   "source": [
    "user.get_balance()"
   ]
  },
  {
   "cell_type": "code",
   "execution_count": 17,
   "id": "c72e88be-1dcd-4eab-8f85-6593b178d250",
   "metadata": {},
   "outputs": [],
   "source": [
    "class BankAccount:\n",
    "    def __init__(self,account_number,account_holder_name,balance=0):\n",
    "        self._transaction_history = [] \n",
    "        self._account_number = account_number\n",
    "        self._account_holder_name = account_holder_name\n",
    "        self._balance = float(balance)\n",
    "        if balance > 0:\n",
    "            self._transaction_history.append(f\"initial balance: ${balance}\")\n",
    "\n",
    "    def deposit(self, amount):\n",
    "        \"\"\"\n",
    "        Deposit money into the account and update transaction history.\n",
    "        \n",
    "        Args:\n",
    "            Amount to deposit.\n",
    "            \n",
    "        \"\"\"\n",
    "        try:\n",
    "            amount = float(amount)  # Convert amount to float\n",
    "            if amount <= 0:\n",
    "                print(\"Error: Deposit amount must be positive.\")\n",
    "            self._balance += amount\n",
    "            self._transaction_history.append(f\"Deposited: ${amount:.2f}\")\n",
    "            return \"Deposited Successfully!!\"\n",
    "        except (ValueError, TypeError):\n",
    "            print(\"Error: Invalid deposit amount.\")\n",
    "           \n",
    "    def withdraw(self, amount):\n",
    "        \"\"\"\n",
    "        Withdraw money from the account, deducting the amount from the balance \n",
    "        and update the transaction history\n",
    "\n",
    "        Args:\n",
    "            Amount to withdraw\n",
    "        \"\"\"\n",
    "\n",
    "        try:\n",
    "            amount = float(amount)\n",
    "            if amount <= 0 :\n",
    "                print(\"Error: Withdraw amount must be positive\")\n",
    "            self._balance -= amount\n",
    "            self._transaction_history.append(f\"Withdrew: ${amount:.2f}\")\n",
    "            return \"Withdrew Successfully!\"\n",
    "        except (ValueError, TypeError):\n",
    "            print(\"Error: Invalid deposit amount.\")\n",
    "\n",
    "    def get_balance(self):\n",
    "        \"\"\"\n",
    "        Return currect balance\n",
    "        \"\"\"\n",
    "        \n",
    "        return self._balance\n",
    "\n",
    "    def get_transaction_history(self):\n",
    "        \"\"\"\n",
    "        Return transaction history \n",
    "        \"\"\"\n",
    "\n",
    "        return self._transaction_history"
   ]
  },
  {
   "cell_type": "code",
   "execution_count": 18,
   "id": "bd2bd644-65bc-4d01-8f4c-42ae03b87ff8",
   "metadata": {},
   "outputs": [],
   "source": [
    "user = BankAccount(123,\"Zain\",500)"
   ]
  },
  {
   "cell_type": "code",
   "execution_count": 19,
   "id": "c63154a4-5983-484d-ab2a-e00d3ed0b5a6",
   "metadata": {},
   "outputs": [
    {
     "data": {
      "text/plain": [
       "500.0"
      ]
     },
     "execution_count": 19,
     "metadata": {},
     "output_type": "execute_result"
    }
   ],
   "source": [
    "user.get_balance()"
   ]
  },
  {
   "cell_type": "code",
   "execution_count": 20,
   "id": "46ab7bba-8a4a-4ed8-ad92-124a3c454254",
   "metadata": {},
   "outputs": [
    {
     "data": {
      "text/plain": [
       "['initial balance: $500']"
      ]
     },
     "execution_count": 20,
     "metadata": {},
     "output_type": "execute_result"
    }
   ],
   "source": [
    "user.get_transaction_history()"
   ]
  },
  {
   "cell_type": "code",
   "execution_count": 25,
   "id": "217d0ba5-8334-4251-ae9e-b54e363a2762",
   "metadata": {},
   "outputs": [],
   "source": [
    "class BankAccount:\n",
    "    def __init__(self,account_number,account_holder_name,balance=0):\n",
    "        self._transaction_history = [] \n",
    "        self._account_number = account_number\n",
    "        self._account_holder_name = account_holder_name\n",
    "        self._balance = float(balance)\n",
    "        if balance > 0:\n",
    "            self._transaction_history.append(f\"initial balance: ${balance}\")\n",
    "\n",
    "    def deposit(self, amount):\n",
    "        \"\"\"\n",
    "        Deposit money into the account and update transaction history.\n",
    "        \n",
    "        Args:\n",
    "            Amount to deposit.\n",
    "            \n",
    "        \"\"\"\n",
    "        try:\n",
    "            amount = float(amount)  # Convert amount to float\n",
    "            if amount <= 0:\n",
    "                print(\"Error: Deposit amount must be positive.\")\n",
    "            self._balance += amount\n",
    "            self._transaction_history.append(f\"Deposited: ${amount:.2f}\")\n",
    "            return \"Deposited Successfully!!\"\n",
    "        except (ValueError, TypeError):\n",
    "            print(\"Error: Invalid deposit amount.\")\n",
    "           \n",
    "    def withdraw(self, amount):\n",
    "        \"\"\"\n",
    "        Withdraw money from the account, deducting the amount from the balance \n",
    "        and update the transaction history\n",
    "\n",
    "        Args:\n",
    "            Amount to withdraw\n",
    "        \"\"\"\n",
    "\n",
    "        try:\n",
    "            amount = float(amount)\n",
    "            if amount <= 0 :\n",
    "                print(\"Error: Withdraw amount must be positive\")\n",
    "            self._balance -= amount\n",
    "            self._transaction_history.append(f\"Withdrew: ${amount:.2f}\")\n",
    "            return \"Withdrew Successfully!\"\n",
    "        except (ValueError, TypeError):\n",
    "            print(\"Error: Invalid withdraw amount.\")\n",
    "\n",
    "    def get_balance(self):\n",
    "        \"\"\"\n",
    "        Return currect balance\n",
    "        \"\"\"\n",
    "        \n",
    "        return self._balance\n",
    "\n",
    "    def get_transaction_history(self):\n",
    "        \"\"\"\n",
    "        Return transaction history \n",
    "        \"\"\"\n",
    "\n",
    "        return self._transaction_history\n",
    "\n",
    "    def transfer(self, target_account, amount):\n",
    "        try: \n",
    "            amount = float(amount)\n",
    "            if not isinstance(target_account, BankAccount):\n",
    "                print(\"Error: Recipient must be a valid BankAccount.\")\n",
    "            if amount <= 0:\n",
    "                print(\"Error: Transfer amount must be positive.\")\n",
    "            if amount > self._balance:\n",
    "                print(\"Error: Insufficient balance for transfer.\")\n",
    "            self._balance -= amount\n",
    "            target_account._balance += amount\n",
    "            self._transaction_history.append(f\"Transferred: ${amount:.2f} to account {target_account._account_number}\")\n",
    "            target_account._transaction_history.append(f\"Received: ${amount:.2f} from account {self._account_number}\")\n",
    "            return \"Amount Transferred!\"\n",
    "        except (ValueError, TypeError):\n",
    "            print(\"Error: Invalid transfer amount.\")"
   ]
  },
  {
   "cell_type": "code",
   "execution_count": 26,
   "id": "bf080949-f9b9-42b3-9f4a-6281c801dd3a",
   "metadata": {},
   "outputs": [],
   "source": [
    "user1 = BankAccount(123,\"Zain\",500)\n",
    "user2 = BankAccount(456,\"Bob\",500)"
   ]
  },
  {
   "cell_type": "code",
   "execution_count": 27,
   "id": "c4169160-f546-424d-8117-beeae52cb552",
   "metadata": {},
   "outputs": [
    {
     "data": {
      "text/plain": [
       "'Amount Transferred!'"
      ]
     },
     "execution_count": 27,
     "metadata": {},
     "output_type": "execute_result"
    }
   ],
   "source": [
    "user1.transfer(user2,200)"
   ]
  },
  {
   "cell_type": "code",
   "execution_count": 28,
   "id": "edfe0bd3-7c75-4491-8f99-3bbffa3efb0d",
   "metadata": {},
   "outputs": [
    {
     "data": {
      "text/plain": [
       "['initial balance: $500', 'Received: $200.00 from account 123']"
      ]
     },
     "execution_count": 28,
     "metadata": {},
     "output_type": "execute_result"
    }
   ],
   "source": [
    "user2._transaction_history"
   ]
  },
  {
   "cell_type": "code",
   "execution_count": 29,
   "id": "cdaa3ef2-7311-40cd-bc3c-60ac7ca52229",
   "metadata": {},
   "outputs": [
    {
     "data": {
      "text/plain": [
       "['initial balance: $500', 'Transferred: $200.00 to account 456']"
      ]
     },
     "execution_count": 29,
     "metadata": {},
     "output_type": "execute_result"
    }
   ],
   "source": [
    "user1._transaction_history"
   ]
  },
  {
   "cell_type": "code",
   "execution_count": 34,
   "id": "850f94b8-8a2b-43bf-8a83-ecf9795ad3c7",
   "metadata": {},
   "outputs": [],
   "source": [
    "# BankAccount class with added __str__ and __eq__ methods to support testing\n",
    "class BankAccount:\n",
    "    def __init__(self, account_number, account_holder_name, balance=0):\n",
    "        self._transaction_history = [] \n",
    "        self._account_number = account_number\n",
    "        self._account_holder_name = account_holder_name\n",
    "        self._balance = float(balance)\n",
    "        if balance > 0:\n",
    "            self._transaction_history.append(f\"initial balance: ${balance}\")\n",
    "\n",
    "    def deposit(self, amount):\n",
    "        \"\"\"\n",
    "        Deposit money into the account and update transaction history.\n",
    "        \n",
    "        Args:\n",
    "            Amount to deposit.\n",
    "        \"\"\"\n",
    "        try:\n",
    "            amount = float(amount)  # Convert amount to float\n",
    "            if amount <= 0:\n",
    "                print(\"Error: Deposit amount must be positive.\")\n",
    "            self._balance += amount\n",
    "            self._transaction_history.append(f\"Deposited: ${amount:.2f}\")\n",
    "            return \"Deposited Successfully!!\"\n",
    "        except (ValueError, TypeError):\n",
    "            print(\"Error: Invalid deposit amount.\")\n",
    "\n",
    "    def withdraw(self, amount):\n",
    "        \"\"\"\n",
    "        Withdraw money from the account, deducting the amount from the balance \n",
    "        and update the transaction history\n",
    "\n",
    "        Args:\n",
    "            Amount to withdraw\n",
    "        \"\"\"\n",
    "        try:\n",
    "            amount = float(amount)\n",
    "            if amount <= 0:\n",
    "                print(\"Error: Withdraw amount must be positive\")\n",
    "            self._balance -= amount\n",
    "            self._transaction_history.append(f\"Withdrew: ${amount:.2f}\")\n",
    "            return \"Withdrew Successfully!\"\n",
    "        except (ValueError, TypeError):\n",
    "            print(\"Error: Invalid withdraw amount.\")\n",
    "\n",
    "    def get_balance(self):\n",
    "        \"\"\"\n",
    "        Return current balance\n",
    "        \"\"\"\n",
    "        return self._balance\n",
    "\n",
    "    def get_transaction_history(self):\n",
    "        \"\"\"\n",
    "        Return transaction history \n",
    "        \"\"\"\n",
    "        return self._transaction_history\n",
    "\n",
    "    def transfer(self, target_account, amount):\n",
    "        try: \n",
    "            amount = float(amount)\n",
    "            if not isinstance(target_account, BankAccount):\n",
    "                print(\"Error: Recipient must be a valid BankAccount.\")\n",
    "            if amount <= 0:\n",
    "                print(\"Error: Transfer amount must be positive.\")\n",
    "            if amount > self._balance:\n",
    "                print(\"Error: Insufficient balance for transfer.\")\n",
    "            self._balance -= amount\n",
    "            target_account._balance += amount\n",
    "            self._transaction_history.append(f\"Transferred: ${amount:.2f} to account {target_account._account_number}\")\n",
    "            target_account._transaction_history.append(f\"Received: ${amount:.2f} from account {self._account_number}\")\n",
    "            return \"Amount Transferred!\"\n",
    "        except (ValueError, TypeError, AttributeError):\n",
    "            print(\"Error: Invalid transfer amount.\")\n",
    "\n",
    "    def __str__(self):\n",
    "        \"\"\"\n",
    "        Return a readable string representation of the account.\n",
    "        \"\"\"\n",
    "        return f\"Account {self._account_number} ({self._account_holder_name}): ${self._balance:.2f}\"\n",
    "\n",
    "\n"
   ]
  },
  {
   "cell_type": "code",
   "execution_count": null,
   "id": "773ca7e0-694c-49f2-98d1-d8b6d196b42d",
   "metadata": {},
   "outputs": [],
   "source": []
  },
  {
   "cell_type": "code",
   "execution_count": 35,
   "id": "c9fb567e-0470-471c-b027-2739760777a9",
   "metadata": {},
   "outputs": [
    {
     "name": "stdout",
     "output_type": "stream",
     "text": [
      "\n",
      "Testing initial state:\n",
      "Account 12345 (Alice): $1000.00\n",
      "Initial history: ['initial balance: $1000']\n",
      "\n",
      "Testing deposit:\n",
      "Deposited Successfully!!\n",
      "Account 12345 (Alice): $1500.00\n",
      "\n",
      "Testing withdrawal:\n",
      "Withdrew Successfully!\n",
      "Account 12345 (Alice): $1300.00\n",
      "\n",
      "Testing transfer:\n",
      "Amount Transferred!\n",
      "Account 12345 (Alice): $1000.00\n",
      "Account 67890 (Bob): $800.00\n",
      "\n",
      "Transaction history for account1:\n",
      "initial balance: $1000\n",
      "Deposited: $500.00\n",
      "Withdrew: $200.00\n",
      "Transferred: $300.00 to account 67890\n",
      "\n",
      "Testing error cases:\n",
      "Error: Deposit amount must be positive.\n",
      "Deposited Successfully!!\n",
      "Error: Invalid deposit amount.\n",
      "None\n",
      "Error: Withdraw amount must be positive\n",
      "Withdrew Successfully!\n",
      "Error: Invalid withdraw amount.\n",
      "None\n",
      "Error: Insufficient balance for transfer.\n",
      "Amount Transferred!\n",
      "Error: Transfer amount must be positive.\n",
      "Error: Insufficient balance for transfer.\n",
      "Amount Transferred!\n",
      "Error: Recipient must be a valid BankAccount.\n",
      "Error: Insufficient balance for transfer.\n",
      "Error: Invalid transfer amount.\n",
      "None\n"
     ]
    }
   ],
   "source": [
    "# Test the BankAccount class\n",
    "if __name__ == \"__main__\":\n",
    "    # Create two bank accounts\n",
    "    account1 = BankAccount(12345, \"Alice\", 1000)\n",
    "    account2 = BankAccount(67890, \"Bob\", 500)\n",
    "    \n",
    "    # Test initial state\n",
    "    print(\"\\nTesting initial state:\")\n",
    "    print(account1)  # Expected: Account 12345 (Alice): $1000.00\n",
    "    print(\"Initial history:\", account1.get_transaction_history())  # Expected: ['initial balance: $1000']\n",
    "    \n",
    "    # Test deposit\n",
    "    print(\"\\nTesting deposit:\")\n",
    "    print(account1.deposit(500))  # Expected: Deposited Successfully!!\n",
    "    print(account1)  # Expected: Account 12345 (Alice): $1500.00\n",
    "    \n",
    "    # Test withdrawal\n",
    "    print(\"\\nTesting withdrawal:\")\n",
    "    print(account1.withdraw(200))  # Expected: Withdrew Successfully!\n",
    "    print(account1)  # Expected: Account 12345 (Alice): $1300.00\n",
    "    \n",
    "    # Test transfer\n",
    "    print(\"\\nTesting transfer:\")\n",
    "    print(account1.transfer(account2, 300))  # Expected: Amount Transferred!\n",
    "    print(account1)  # Expected: Account 12345 (Alice): $1000.00\n",
    "    print(account2)  # Expected: Account 67890 (Bob): $800.00\n",
    "    \n",
    "    # Test transaction history\n",
    "    print(\"\\nTransaction history for account1:\")\n",
    "    for transaction in account1.get_transaction_history():\n",
    "        print(transaction)  # Expected: ['initial balance: $1000', 'Deposited: $500.00', 'Withdrew: $200.00', 'Transferred: $300.00 to account 67890']\n",
    "    \n",
    "    \n",
    "    # Test error cases\n",
    "    print(\"\\nTesting error cases:\")\n",
    "    print(account1.deposit(-100))  # Expected: Error: Deposit amount must be positive. None\n",
    "    print(account1.deposit(\"invalid\"))  # Expected: Error: Invalid deposit amount. None\n",
    "    print(account1.withdraw(-50))  # Expected: Error: Withdraw amount must be positive None\n",
    "    print(account1.withdraw(\"invalid\"))  # Expected: Error: Invalid withdraw amount. None\n",
    "    print(account1.transfer(account2, 10000))  # Expected: Error: Insufficient balance for transfer. None\n",
    "    print(account1.transfer(account2, -50))  # Expected: Error: Transfer amount must be positive. None\n",
    "    print(account1.transfer(\"not_an_account\", 100))  # Expected: Error: Recipient must be a valid BankAccount. None"
   ]
  },
  {
   "cell_type": "code",
   "execution_count": null,
   "id": "7c242b7a-ee9b-4c48-9255-2cce6a4309ba",
   "metadata": {},
   "outputs": [],
   "source": []
  }
 ],
 "metadata": {
  "kernelspec": {
   "display_name": "Python 3 (ipykernel)",
   "language": "python",
   "name": "python3"
  },
  "language_info": {
   "codemirror_mode": {
    "name": "ipython",
    "version": 3
   },
   "file_extension": ".py",
   "mimetype": "text/x-python",
   "name": "python",
   "nbconvert_exporter": "python",
   "pygments_lexer": "ipython3",
   "version": "3.12.4"
  }
 },
 "nbformat": 4,
 "nbformat_minor": 5
}
