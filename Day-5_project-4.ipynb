{
 "cells": [
  {
   "cell_type": "markdown",
   "id": "b6e2d384-0a8d-49cc-868e-5caed22711c4",
   "metadata": {},
   "source": [
    "## 📐 Vector Operations Class\n",
    "\n",
    "### 📝 Description\n",
    "Design a `Vector` class to perform basic vector operations in 2D or 3D space. This class should support arithmetic operations such as addition, subtraction, and dot product, along with vector magnitude and optional cross product for 3D vectors.\n",
    "\n",
    "---\n",
    "\n",
    "### 🔧 Features\n",
    "\n",
    "- **Attributes:**\n",
    "  - `coordinates` (List or tuple representing vector components, e.g., `[x, y]` or `[x, y, z]`)\n",
    "\n",
    "- **Methods:**\n",
    "  - `__init__(coordinates)` → Initialize vector with given components.\n",
    "  - `add(other_vector)` → Return a new vector by component-wise addition.\n",
    "  - `subtract(other_vector)` → Return a new vector by component-wise subtraction.\n",
    "  - `dot_product(other_vector)` → Return the scalar dot product.\n",
    "  - `magnitude()` → Return the Euclidean norm: `√(x² + y² + z²)`.\n",
    "  - `__add__(other)` → Operator overloading for `+`.\n",
    "  - `__str__()` → Return readable string format.\n",
    "  - `__eq__(other)` → Compare vectors by components.\n",
    "\n",
    "---\n",
    "\n",
    "### 🎁 Bonus: 3D Vector Cross Product\n",
    "- `cross_product(other_vector)` → Return a new vector representing the cross product (only valid for 3D vectors).\n",
    "\n",
    "---\n",
    "\n",
    "### ✅ Learning Outcomes\n",
    "- Master **list/tuple manipulation** for numerical computations.\n",
    "- Implement **mathematical operations** with input validation (e.g., same dimensions check).\n",
    "- Use **dunder methods** to support operator overloading and intuitive object behavior.\n",
    "\n",
    "---\n",
    "\n",
    "### 🧪 Example Usage\n",
    "```python\n",
    "v1 = Vector([1, 2])\n",
    "v2 = Vector([3, 4])\n",
    "v3 = v1 + v2  # Uses __add__\n",
    "print(v3)  # Output: Vector(4, 6)\n",
    "\n",
    "print(v1.dot_product(v2))  # Output: 11 (1*3 + 2*4)\n",
    "print(v1.magnitude())      # Output: 2.236 (√(1² + 2²))\n"
   ]
  },
  {
   "cell_type": "code",
   "execution_count": 4,
   "id": "6f454d5b-7f6d-46b4-bb1f-9b1d721d94a4",
   "metadata": {},
   "outputs": [],
   "source": [
    "import math\n",
    "\n",
    "class Vector:\n",
    "    \"\"\"\n",
    "    A class to represent vectors in 2D or 3D space, supporting linear algebra operations.\n",
    "    \"\"\"\n",
    "    def __init__(self, coordinates):\n",
    "        \"\"\"\n",
    "        Initialize the vector with a list or tuple of coordinates.\n",
    "\n",
    "        Args:\n",
    "            coordinates (list or tuple): The coordinates of the vector (e.g., [x, y] or [x, y, z]).\n",
    "\n",
    "        Raises:\n",
    "            TypeError: If coordinates is not a list/tuple or contains non-numeric values.\n",
    "            ValueError: If coordinates list is empty.\n",
    "        \"\"\"\n",
    "        if not isinstance(coordinates, (list, tuple)): # class = list and tuple\n",
    "            raise TypeError(\"Coordinates must be a list or tuple.\")\n",
    "        if not coordinates:\n",
    "            raise ValueError(\"Coordinates list cannot be empty.\")\n",
    "        for coord in coordinates:\n",
    "            if not isinstance(coord, (int, float)):\n",
    "                raise TypeError(\"Coordinates must be numbers.\")\n",
    "\n",
    "        \"\"\"\n",
    "        till here I have handled all type of errors possible so now lets save the coordinates\n",
    "        \"\"\"\n",
    "        \n",
    "        self.coordinates = [float(coord) for coord in coordinates]\n",
    "\n",
    "    def add(self, other):\n",
    "        \"\"\"\n",
    "        Add another vector component-wise.\n",
    "\n",
    "        Args:\n",
    "            other (Vector): The vector to add.\n",
    "\n",
    "        Returns:\n",
    "            Vector: A new Vector with the sum of coordinates.\n",
    "\n",
    "        Raises:\n",
    "            TypeError: If other is not a Vector.\n",
    "            ValueError: If vectors have different dimensions.\n",
    "        \"\"\"\n",
    "        if not isinstance(other, Vector):\n",
    "            raise TypeError(\"Can only add another Vector.\")\n",
    "        if len(self.coordinates) != len(other.coordinates): # checking dimensions \n",
    "            raise ValueError(\"Vectors must have the same dimension.\")\n",
    "        new_coords = [a + b for a, b in zip(self.coordinates, other.coordinates)]\n",
    "        return Vector(new_coords)\n",
    "\n",
    "    def subtract(self, other):\n",
    "        \"\"\"\n",
    "        Subtract another vector component-wise.\n",
    "\n",
    "        Args:\n",
    "            other (Vector): The vector to subtract.\n",
    "\n",
    "        Returns:\n",
    "            Vector: A new Vector with the difference of coordinates.\n",
    "\n",
    "        Raises:\n",
    "            TypeError: If other is not a Vector.\n",
    "            ValueError: If vectors have different dimensions.\n",
    "        \"\"\"\n",
    "        if not isinstance(other, Vector):\n",
    "            raise TypeError(\"Can only subtract another Vector.\")\n",
    "        if len(self.coordinates) != len(other.coordinates):\n",
    "            raise ValueError(\"Vectors must have the same dimension.\")\n",
    "        new_coords = [a - b for a, b in zip(self.coordinates, other.coordinates)]\n",
    "        return Vector(new_coords)\n",
    "\n",
    "    def dot_product(self, other):\n",
    "        \"\"\"\n",
    "        Compute the dot product with another vector.\n",
    "\n",
    "        Args:\n",
    "            other (Vector): The other vector.\n",
    "\n",
    "        Returns:\n",
    "            float: The dot product value.\n",
    "\n",
    "        Raises:\n",
    "            TypeError: If other is not a Vector.\n",
    "            ValueError: If vectors have different dimensions.\n",
    "        \"\"\"\n",
    "        if not isinstance(other, Vector):\n",
    "            raise TypeError(\"Can only compute dot product with another Vector.\")\n",
    "        if len(self.coordinates) != len(other.coordinates):\n",
    "            raise ValueError(\"Vectors must have the same dimension.\")\n",
    "        return sum(a * b for a, b in zip(self.coordinates, other.coordinates))\n",
    "\n",
    "    def magnitude(self):\n",
    "        \"\"\"\n",
    "        Calculate the magnitude (length) of the vector.\n",
    "\n",
    "        Returns:\n",
    "            float: The magnitude (sqrt(x² + y² + z²)).\n",
    "        \"\"\"\n",
    "        return math.sqrt(sum(coord ** 2 for coord in self.coordinates))\n",
    "\n",
    "    def __add__(self, other):\n",
    "        \"\"\"Enable the + operator for vector addition.\"\"\"\n",
    "        return self.add(other)\n",
    "\n",
    "    def __sub__(self, other):\n",
    "        return self.subtract(other)\n",
    "\n",
    "    def __str__(self):\n",
    "        \"\"\"Return a readable string representation of the vector.\"\"\"\n",
    "        coords_str = ', '.join(str(coord) for coord in self.coordinates)\n",
    "        return f\"Vector({coords_str})\"\n",
    "\n",
    "    def __eq__(self, other):\n",
    "        \"\"\"Check if two vectors are equal based on their coordinates.\"\"\"\n",
    "        if not isinstance(other, Vector):\n",
    "            return False\n",
    "        return self.coordinates == other.coordinates\n",
    "\n",
    "    def cross_product(self, other):\n",
    "        \"\"\"\n",
    "        Compute the cross product (for 3D vectors only).\n",
    "\n",
    "        Args:\n",
    "            other (Vector): The other vector.\n",
    "\n",
    "        Returns:\n",
    "            Vector: A new Vector representing the cross product.\n",
    "\n",
    "        Raises:\n",
    "            TypeError: If other is not a Vector.\n",
    "            ValueError: If vectors are not 3D.\n",
    "        \"\"\"\n",
    "        if not isinstance(other, Vector):\n",
    "            raise TypeError(\"Can only compute cross product with another Vector.\")\n",
    "        if len(self.coordinates) != 3 or len(other.coordinates) != 3:\n",
    "            raise ValueError(\"Cross product is only defined for 3D vectors.\")\n",
    "        a = self.coordinates\n",
    "        b = other.coordinates\n",
    "        new_coords = [\n",
    "            a[1] * b[2] - a[2] * b[1],\n",
    "            a[2] * b[0] - a[0] * b[2],\n",
    "            a[0] * b[1] - a[1] * b[0]\n",
    "        ]\n",
    "        return Vector(new_coords)"
   ]
  },
  {
   "cell_type": "code",
   "execution_count": 5,
   "id": "79712992-fadb-4f14-8e89-8c9a351a333e",
   "metadata": {},
   "outputs": [
    {
     "name": "stdout",
     "output_type": "stream",
     "text": [
      "Vector(4.0, 6.0)\n",
      "11.0\n",
      "2.23606797749979\n"
     ]
    }
   ],
   "source": [
    "# Test 2D vectors\n",
    "v1 = Vector([1, 2])\n",
    "v2 = Vector([3, 4])\n",
    "v3 = v1 + v2\n",
    "print(v3)  # Expected: Vector(4.0, 6.0)\n",
    "print(v1.dot_product(v2))  # Expected: 11.0 (1*3 + 2*4)\n",
    "print(v1.magnitude())  # Expected: 2.236... (sqrt(1² + 2²))"
   ]
  },
  {
   "cell_type": "code",
   "execution_count": 6,
   "id": "a3e8fb8e-966d-41cb-960b-fc9e47b40d98",
   "metadata": {},
   "outputs": [
    {
     "name": "stdout",
     "output_type": "stream",
     "text": [
      "Vector(-2.0, -2.0)\n"
     ]
    }
   ],
   "source": [
    "# Test subtraction\n",
    "v4 = v1 - v2\n",
    "print(v4)  # Expected: Vector(-2.0, -2.0)"
   ]
  },
  {
   "cell_type": "code",
   "execution_count": 7,
   "id": "fb7bd61f-f06c-4c4e-904b-3386a70bcd4e",
   "metadata": {},
   "outputs": [
    {
     "name": "stdout",
     "output_type": "stream",
     "text": [
      "Vector(0.0, 0.0, 1.0)\n"
     ]
    }
   ],
   "source": [
    "# Test 3D vectors with cross product\n",
    "v5 = Vector([1, 0, 0])\n",
    "v6 = Vector([0, 1, 0])\n",
    "v7 = v5.cross_product(v6)\n",
    "print(v7)  # Expected: Vector(0.0, 0.0, 1.0)"
   ]
  },
  {
   "cell_type": "code",
   "execution_count": 8,
   "id": "7ec3d9e4-69a8-4ce5-84e1-ea0f0269a5fb",
   "metadata": {},
   "outputs": [
    {
     "name": "stdout",
     "output_type": "stream",
     "text": [
      "True\n",
      "False\n"
     ]
    }
   ],
   "source": [
    "# Test equality\n",
    "v8 = Vector([1, 2])\n",
    "print(v1 == v8)  # Expected: True\n",
    "v9 = Vector([1, 2, 3])\n",
    "print(v1 == v9)  # Expected: False"
   ]
  },
  {
   "cell_type": "code",
   "execution_count": 9,
   "id": "80427c17-2176-411a-bd80-4b3e16b3e7ae",
   "metadata": {},
   "outputs": [
    {
     "name": "stdout",
     "output_type": "stream",
     "text": [
      "Coordinates list cannot be empty.\n"
     ]
    }
   ],
   "source": [
    "# Test error cases\n",
    "try:\n",
    "    Vector([])  # Empty coordinates\n",
    "except ValueError as e:\n",
    "    print(e)  # Expected: Coordinates list cannot be empty."
   ]
  },
  {
   "cell_type": "code",
   "execution_count": 10,
   "id": "b72e0db9-cecb-434c-ab40-a5031e7b09e1",
   "metadata": {},
   "outputs": [
    {
     "name": "stdout",
     "output_type": "stream",
     "text": [
      "Coordinates must be numbers.\n"
     ]
    }
   ],
   "source": [
    "try:\n",
    "    Vector([1, \"a\"])  # Non-numeric coordinate\n",
    "except TypeError as e:\n",
    "    print(e)  # Expected: Coordinates must be numbers."
   ]
  },
  {
   "cell_type": "code",
   "execution_count": 11,
   "id": "b5d39cf5-309f-4d33-886f-6f84e373d14e",
   "metadata": {},
   "outputs": [
    {
     "name": "stdout",
     "output_type": "stream",
     "text": [
      "Vectors must have the same dimension.\n"
     ]
    }
   ],
   "source": [
    "try:\n",
    "    v1 + v9  # Dimension mismatch\n",
    "except ValueError as e:\n",
    "    print(e)  # Expected: Vectors must have the same dimension."
   ]
  },
  {
   "cell_type": "code",
   "execution_count": 12,
   "id": "3b3d9ce8-5923-48c0-ad5e-9aec00c7425f",
   "metadata": {},
   "outputs": [
    {
     "name": "stdout",
     "output_type": "stream",
     "text": [
      "Cross product is only defined for 3D vectors.\n"
     ]
    }
   ],
   "source": [
    "try:\n",
    "    v1.cross_product(v2)  # Cross product on 2D vectors\n",
    "except ValueError as e:\n",
    "    print(e)  # Expected: Cross product is only defined for 3D vectors."
   ]
  }
 ],
 "metadata": {
  "kernelspec": {
   "display_name": "Python 3 (ipykernel)",
   "language": "python",
   "name": "python3"
  },
  "language_info": {
   "codemirror_mode": {
    "name": "ipython",
    "version": 3
   },
   "file_extension": ".py",
   "mimetype": "text/x-python",
   "name": "python",
   "nbconvert_exporter": "python",
   "pygments_lexer": "ipython3",
   "version": "3.12.4"
  }
 },
 "nbformat": 4,
 "nbformat_minor": 5
}
