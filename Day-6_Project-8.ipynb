{
 "cells": [
  {
   "cell_type": "markdown",
   "id": "7f7b9c25-beac-4790-9dc4-92232ea9b421",
   "metadata": {},
   "source": [
    "## 🐾 Project 4: Animal Shelter Management\r\n",
    "\r\n",
    "### 📝 Description\r\n",
    "Build an **Animal Shelter Management System** to track various animals (like dogs and cats) and their adoption status. This project focuses on **inheritance** and **polymorphism**, with optional use of **composition** through a `Shelter` class.\r\n",
    "\r\n",
    "---\r\n",
    "\r\n",
    "### 🔧 Features\r\n",
    "\r\n",
    "- **Attributes (in `Animal` base class):**\r\n",
    "  - `animal_id`: Unique identifier.\r\n",
    "  - `name`: Animal’s name.\r\n",
    "  - `is_adopted`: Boolean indicating if the animal has been adopted.\r\n",
    "\r\n",
    "- **Methods:**\r\n",
    "  - `__init__(...)` → Initialize animal details.\r\n",
    "  - `make_sound()` → Return the sound the animal makes.\r\n",
    "  - `adopt()` → Mark the animal as adopted.\r\n",
    "  - `__str__()` → Return readable summary with name and adoption status.\r\n",
    "\r\n",
    "---\r\n",
    "\r\n",
    "### 🏗️ Class Hierarchy\r\n",
    "\r\n",
    "- **`Animal`** *(Base Class)*:\r\n",
    "  - Defines shared attributes and methods.\r\n",
    "\r\n",
    "- **`Dog`** *(Inherits from `Animal`)*:\r\n",
    "  - Overrides `make_sound()` → Returns `\"Woof\"`.\r\n",
    "\r\n",
    "- **`Cat`** *(Inherits from `Animal`)*:\r\n",
    "  - Overrides `make_sound()` → Returns `\"Meow\"`.\r\n",
    "\r\n",
    "---\r\n",
    "\r\n",
    "### 🎁 Bonus: Shelter Class\r\n",
    "\r\n",
    "- **Shelter Class Attributes:**\r\n",
    "  - `animals`: A list of `Animal` objects.\r\n",
    "\r\n",
    "- **Shelter Class Methods:**\r\n",
    "  - `add_animal(animal)` → Add an animal to the shelter.\r\n",
    "  - `list_available_animals()` → Display animals that are not adopted.\r\n",
    "\r\n",
    "---\r\n",
    "\r\n",
    "### ✅ Learning Outcomes\r\n",
    "\r\n",
    "- ✅ **Inheritance**: Build a hierarchy of animal types.\r\n",
    "- ✅ **Polymorphism**: Override behavior like `make_sound()` in subclasses.\r\n",
    "- ✅ **Encapsulation**: Protect animal attributes and status.\r\n",
    "- ✅ **Composition**: Shelter class contains and manages multiple animals.\r\n",
    "\r\n",
    "---\r\n",
    "\r\n",
    "### 🧪 Example Usage\r\n",
    "```python\r\n",
    "dog = Dog(\"D001\", \"Buddy\")\r\n",
    "cat = Cat(\"C002\", \"Whiskers\")\r\n",
    "\r\n",
    "print(dog.make_sound())  # Output: \"Woof\"\r\n",
    "cat.adopt()\r\n",
    "print(cat)  # Shows cat details with adoption status\r\n",
    "\r\n",
    "shelter = Shelter()\r\n",
    "shelter.add_animal(dog)\r\n",
    "shelter.add_animal(cat)\r\n",
    "shelter.list_available_animals()  # Only lists Buddy\r\n"
   ]
  },
  {
   "cell_type": "code",
   "execution_count": 1,
   "id": "1a32fca0-d001-4763-b286-708d23fc9f81",
   "metadata": {},
   "outputs": [],
   "source": [
    "class Animal:\n",
    "    def __init__(self, animal_id, name):\n",
    "        if not isinstance(animal_id, str) or not animal_id:\n",
    "            raise ValueError(\"Animal ID must be a non-empty string.\")\n",
    "        if not isinstance(name, str) or not name.strip():\n",
    "            raise ValueError(\"Name must be a non-empty string.\")\n",
    "        self._animal_id = animal_id\n",
    "        self._name = name\n",
    "        self._is_adopted = False\n",
    "\n",
    "    def make_sound(self):\n",
    "        return \"Unknown sound\"\n",
    "\n",
    "    def adopt(self):\n",
    "        self._is_adopted = True\n",
    "        return self\n",
    "\n",
    "    def __str__(self):\n",
    "        status = \"Adopted\" if self._is_adopted else \"Available\"\n",
    "        return f\"Animal({self._animal_id}, {self._name}, Status: {status})\""
   ]
  },
  {
   "cell_type": "code",
   "execution_count": 2,
   "id": "2d8449f8-199c-4bbd-976b-ed6f71882247",
   "metadata": {},
   "outputs": [],
   "source": [
    "class Dog(Animal):\n",
    "    def make_sound(self):\n",
    "        return \"Woof\"\n",
    "\n",
    "class Cat(Animal):\n",
    "    def make_sound(self):\n",
    "        return \"Meow\""
   ]
  },
  {
   "cell_type": "code",
   "execution_count": 3,
   "id": "e299cd19-a023-4153-9e0e-fe026ca622e3",
   "metadata": {},
   "outputs": [],
   "source": [
    "class Shelter:\n",
    "    def __init__(self):\n",
    "        self._animals = []\n",
    "\n",
    "    def add_animal(self, animal):\n",
    "        if not isinstance(animal, Animal):\n",
    "            raise TypeError(\"Can only add Animal instances to the shelter.\")\n",
    "        self._animals.append(animal)\n",
    "        return self\n",
    "\n",
    "    def list_available(self):\n",
    "        return [animal for animal in self._animals if not animal._is_adopted]\n",
    "\n",
    "    def __str__(self):\n",
    "        available = len(self.list_available())\n",
    "        total = len(self._animals)\n",
    "        return f\"Shelter(Total Animals: {total}, Available: {available})\""
   ]
  },
  {
   "cell_type": "code",
   "execution_count": 5,
   "id": "a652738a-8bfd-4956-b85d-615962636b57",
   "metadata": {},
   "outputs": [],
   "source": [
    "shelter = Shelter()\n",
    "dog = Dog(\"D001\", \"Buddy\")\n",
    "cat = Cat(\"C001\", \"Whiskers\")"
   ]
  },
  {
   "cell_type": "code",
   "execution_count": 6,
   "id": "3c665d48-0394-4a65-b9f2-c8a42be27f30",
   "metadata": {},
   "outputs": [
    {
     "name": "stdout",
     "output_type": "stream",
     "text": [
      "Shelter(Total Animals: 2, Available: 2)\n"
     ]
    }
   ],
   "source": [
    "shelter.add_animal(dog).add_animal(cat)\n",
    "print(shelter)"
   ]
  },
  {
   "cell_type": "code",
   "execution_count": 7,
   "id": "b9791ad5-9811-4000-bfe7-93671837f688",
   "metadata": {},
   "outputs": [
    {
     "name": "stdout",
     "output_type": "stream",
     "text": [
      "Dog sound: Woof\n",
      "Cat sound: Meow\n"
     ]
    }
   ],
   "source": [
    "print(f\"Dog sound: {dog.make_sound()}\")\n",
    "print(f\"Cat sound: {cat.make_sound()}\")"
   ]
  },
  {
   "cell_type": "code",
   "execution_count": 8,
   "id": "e47de134-a356-421c-b138-fdaf9f20b2fe",
   "metadata": {},
   "outputs": [
    {
     "name": "stdout",
     "output_type": "stream",
     "text": [
      "Shelter(Total Animals: 2, Available: 1)\n"
     ]
    }
   ],
   "source": [
    "dog.adopt()\n",
    "print(shelter)"
   ]
  },
  {
   "cell_type": "code",
   "execution_count": 9,
   "id": "f848c42b-5748-43c6-9548-148c9fb344ff",
   "metadata": {},
   "outputs": [
    {
     "name": "stdout",
     "output_type": "stream",
     "text": [
      "Available Animals:\n",
      " - Animal(C001, Whiskers, Status: Available)\n"
     ]
    }
   ],
   "source": [
    "available = shelter.list_available()\n",
    "print(\"Available Animals:\")\n",
    "for animal in available:\n",
    "    print(f\" - {animal}\")"
   ]
  },
  {
   "cell_type": "code",
   "execution_count": null,
   "id": "3d51ce25-51c2-4c94-b2ea-3748540b685e",
   "metadata": {},
   "outputs": [],
   "source": []
  }
 ],
 "metadata": {
  "kernelspec": {
   "display_name": "Python 3 (ipykernel)",
   "language": "python",
   "name": "python3"
  },
  "language_info": {
   "codemirror_mode": {
    "name": "ipython",
    "version": 3
   },
   "file_extension": ".py",
   "mimetype": "text/x-python",
   "name": "python",
   "nbconvert_exporter": "python",
   "pygments_lexer": "ipython3",
   "version": "3.12.4"
  }
 },
 "nbformat": 4,
 "nbformat_minor": 5
}
