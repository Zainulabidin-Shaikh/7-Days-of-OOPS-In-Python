{
 "cells": [
  {
   "cell_type": "markdown",
   "id": "9106f3df-1451-46fe-be5e-3ad21b0dd70f",
   "metadata": {},
   "source": [
    "## 📚 Project 2: Classroom Student Tracker\r\n",
    "\r\n",
    "### 📝 Description\r\n",
    "The **Classroom Student Tracker** is a beginner OOP system to track student attendance. Users can add students, mark them as present or absent, and view their status. It emphasizes **Encapsulation** and **Composition**.\r\n",
    "\r\n",
    "---\r\n",
    "\r\n",
    "### 🔧 Features\r\n",
    "- Add students to the classroom.\r\n",
    "- Mark students as present or absent.\r\n",
    "- Display all students with their attendance status.\r\n",
    "\r\n",
    "---\r\n",
    "\r\n",
    "### 🏗️ Class Structure\r\n",
    "- **`Student`**:\r\n",
    "  - **Attributes**: `name`, `is_present`.\r\n",
    "  - **Methods**:\r\n",
    "    - `__init__(name)` → Initialize student.\r\n",
    "    - `mark_present()` → Mark as present.\r\n",
    "    - `mark_absent()` → Mark as absent.\r\n",
    "    - `__str__()` → Show student details.\r\n",
    "\r\n",
    "- **`Classroom`**:\r\n",
    "  - **Attributes**: `students` (list of `Student` objects).\r\n",
    "  - **Methods**:\r\n",
    "    - `add_student(name)` → Add a student.\r\n",
    "    - `display_students()` → Show all students.\r\n",
    "\r\n",
    "---\r\n",
    "\r\n",
    "### ✅ Learning Outcomes\r\n",
    "- ✅ **Encapsulation**: Protect student data with private attributes.\r\n",
    "- ✅ **Composition**: Manage a list of students in `Classroom`.\r\n",
    "- ✅ **Abstraction**: Hide attendance logic in methods.\r\n",
    "\r\n",
    "---\r\n",
    "\r\n",
    "### 🧪 Example Usage\r\n",
    "```python\r\n",
    "classroom = Classroom()\r\n",
    "classroom.add_student(\"Alice\")\r\n",
    "classroom.add_student(\"Bob\")\r\n",
    "print(classroom.display_students())  # Shows Alice and Bob as absent\r\n",
    "student = classroom._students[0]\r\n",
    "student.mark_present()\r\n",
    "print(classroom.display_students())  # Shows Alice as present\r\n",
    "```r.display_pets())  # Shows Max as adopted\r\n",
    "```"
   ]
  },
  {
   "cell_type": "code",
   "execution_count": 2,
   "id": "8b214c48-4475-4a1d-9aee-603222164479",
   "metadata": {},
   "outputs": [],
   "source": [
    "class Student:\n",
    "    def __init__(self, name):\n",
    "        if not isinstance(name, str) or not name:\n",
    "            raise ValueError(\"Name must be a non-empty string.\")\n",
    "        \n",
    "        self._name = name  # Student's name (e.g., \"Alice\")\n",
    "        self._is_present = False  # Track if the student is present (False means absent)\n",
    "\n",
    "    def mark_present(self):\n",
    "        if self._is_present:\n",
    "            return f\"{self._name} is already marked as present.\"\n",
    "        self._is_present = True\n",
    "        return f\"{self._name} is now present.\"\n",
    "\n",
    "    def mark_absent(self):\n",
    "        if not self._is_present:\n",
    "            return f\"{self._name} is already marked as absent.\"\n",
    "        self._is_present = False\n",
    "        return f\"{self._name} is now absent.\"\n",
    "\n",
    "    def __str__(self):\n",
    "        status = \"Present\" if self._is_present else \"Absent\"\n",
    "        return f\"Student: {self._name}, Status: {status}\"\n",
    "\n",
    "class Classroom:\n",
    "    def __init__(self):\n",
    "        self._students = []  # List to store Student objects\n",
    "\n",
    "    def add_student(self, name):\n",
    "        student = Student(name)\n",
    "        self._students.append(student)\n",
    "        return f\"Added {name} to the classroom.\"\n",
    "\n",
    "    def display_students(self):\n",
    "        if not self._students:\n",
    "            return \"The classroom is empty.\"\n",
    "        result = \"Classroom Students:\\n\"\n",
    "        for student in self._students:\n",
    "            result += str(student) + \"\\n\"\n",
    "        return result"
   ]
  },
  {
   "cell_type": "code",
   "execution_count": 3,
   "id": "d2ee888c-2cde-48f0-8928-cab2b717fe08",
   "metadata": {},
   "outputs": [],
   "source": [
    "classroom = Classroom()"
   ]
  },
  {
   "cell_type": "code",
   "execution_count": 4,
   "id": "a7fc33ed-ea3f-4380-8e19-bb82e771173c",
   "metadata": {},
   "outputs": [
    {
     "name": "stdout",
     "output_type": "stream",
     "text": [
      "Added Alice to the classroom.\n",
      "Added Bob to the classroom.\n"
     ]
    }
   ],
   "source": [
    "print(classroom.add_student(\"Alice\"))\n",
    "print(classroom.add_student(\"Bob\"))"
   ]
  },
  {
   "cell_type": "code",
   "execution_count": 5,
   "id": "e8754321-4ab8-4973-8948-474d1b96af6f",
   "metadata": {},
   "outputs": [
    {
     "name": "stdout",
     "output_type": "stream",
     "text": [
      "Classroom Students:\n",
      "Student: Alice, Status: Absent\n",
      "Student: Bob, Status: Absent\n",
      "\n"
     ]
    }
   ],
   "source": [
    "print(classroom.display_students())"
   ]
  },
  {
   "cell_type": "code",
   "execution_count": 6,
   "id": "7ae55e07-912e-4d90-be9e-a2ac6af8a6f3",
   "metadata": {},
   "outputs": [],
   "source": [
    "student1 = classroom._students[0]  # Get the first student"
   ]
  },
  {
   "cell_type": "code",
   "execution_count": 7,
   "id": "f80e9d1d-93c6-4e3f-b49d-14be3bc0610a",
   "metadata": {},
   "outputs": [
    {
     "name": "stdout",
     "output_type": "stream",
     "text": [
      "Alice is now present.\n"
     ]
    }
   ],
   "source": [
    "print(student1.mark_present())"
   ]
  },
  {
   "cell_type": "code",
   "execution_count": 8,
   "id": "6696eae9-0f36-4680-8148-746597c90522",
   "metadata": {},
   "outputs": [
    {
     "name": "stdout",
     "output_type": "stream",
     "text": [
      "Alice is already marked as present.\n"
     ]
    }
   ],
   "source": [
    "print(student1.mark_present())  # Try marking present again"
   ]
  },
  {
   "cell_type": "code",
   "execution_count": 9,
   "id": "18d73d96-5093-42ff-a1ef-ed882406e51a",
   "metadata": {},
   "outputs": [],
   "source": [
    "student2 = classroom._students[1]  # Get the second student"
   ]
  },
  {
   "cell_type": "code",
   "execution_count": 11,
   "id": "c6d82537-5c57-48a6-9d32-c56c371777e7",
   "metadata": {},
   "outputs": [
    {
     "name": "stdout",
     "output_type": "stream",
     "text": [
      "Bob is already marked as absent.\n"
     ]
    }
   ],
   "source": [
    "print(student2.mark_absent())  # Already absent, should show message"
   ]
  },
  {
   "cell_type": "code",
   "execution_count": 12,
   "id": "18fad44b-70e7-4e6f-a553-ef41792ab72b",
   "metadata": {},
   "outputs": [
    {
     "name": "stdout",
     "output_type": "stream",
     "text": [
      "Classroom Students:\n",
      "Student: Alice, Status: Present\n",
      "Student: Bob, Status: Absent\n",
      "\n"
     ]
    }
   ],
   "source": [
    "print(classroom.display_students())"
   ]
  }
 ],
 "metadata": {
  "kernelspec": {
   "display_name": "Python 3 (ipykernel)",
   "language": "python",
   "name": "python3"
  },
  "language_info": {
   "codemirror_mode": {
    "name": "ipython",
    "version": 3
   },
   "file_extension": ".py",
   "mimetype": "text/x-python",
   "name": "python",
   "nbconvert_exporter": "python",
   "pygments_lexer": "ipython3",
   "version": "3.12.4"
  }
 },
 "nbformat": 4,
 "nbformat_minor": 5
}
