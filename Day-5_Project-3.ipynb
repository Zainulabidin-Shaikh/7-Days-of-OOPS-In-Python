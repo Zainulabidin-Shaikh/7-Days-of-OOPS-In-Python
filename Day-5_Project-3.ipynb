{
 "cells": [
  {
   "cell_type": "markdown",
   "id": "b4617b4e-ba41-49ff-b21b-140966c26398",
   "metadata": {},
   "source": [
    "## 📚 Library Book Management System\n",
    "\n",
    "### 📝 Description\n",
    "Create a `Book` class to manage a library's inventory. The system should allow borrowing and returning books, while keeping track of availability and borrowers. Extend functionality with a `Library` class to manage multiple books.\n",
    "\n",
    "---\n",
    "\n",
    "### 🔧 Features\n",
    "\n",
    "- **Book Class Attributes:**\n",
    "  - `book_id`\n",
    "  - `title`\n",
    "  - `author`\n",
    "  - `is_available` (default: `True`)\n",
    "  - `borrower` (name of the person who borrowed the book, if any)\n",
    "\n",
    "- **Book Class Methods:**\n",
    "  - `__init__(...)` → Initialize book details.\n",
    "  - `borrow(borrower_name)` → Mark the book as borrowed and record the borrower's name.\n",
    "  - `return_book()` → Mark the book as available and clear the borrower.\n",
    "  - `is_available()` → Return `True` if the book is available, else `False`.\n",
    "  - `__str__()` → Nicely formatted book information.\n",
    "  - `__eq__(other)` → Compare books by `book_id`.\n",
    "\n",
    "---\n",
    "\n",
    "### 🎁 Bonus: Library Class\n",
    "\n",
    "- **Library Class Attributes:**\n",
    "  - `books` (List of `Book` objects)\n",
    "\n",
    "- **Library Class Methods:**\n",
    "  - `add_book(book)` → Add a new book to the collection.\n",
    "  - `find_book(book_id)` → Find and return a book by its ID.\n",
    "  - `list_available_books()` → Display all available books.\n",
    "\n",
    "---\n",
    "\n",
    "### ✅ Learning Outcomes\n",
    "- Apply **conditional logic** for borrowing and returning operations.\n",
    "- Use **encapsulation** to manage book state (availability, borrower).\n",
    "- Understand **composition** by building a Library that contains Book objects.\n",
    "\n",
    "---\n"
   ]
  },
  {
   "cell_type": "code",
   "execution_count": 1,
   "id": "183ae9b1-0ca0-481a-a4b4-519647cf888c",
   "metadata": {},
   "outputs": [],
   "source": [
    "# Book class to manage individual books in the library.\n",
    "class Book:\n",
    "    # Encapsulation: Define the class with private attributes to protect data.\n",
    "    # Why? To prevent direct changes to book_id, title, etc., ensuring safe updates.\n",
    "    # What? Use underscores (e.g., _book_id) and methods to access/modify.\n",
    "    def __init__(self, book_id, title, author, is_available=True, borrower=None):\n",
    "        # Thought: Initialize book details. borrower=None means no one has borrowed it.\n",
    "        # Encapsulation: Store data in private(protected) attributes.\n",
    "        self._book_id = book_id  # Unique ID (e.g., \"B001\").\n",
    "        self._title = title      # Book title (e.g., \"Python Basics\").\n",
    "        self._author = author    # Author name (e.g., \"John Doe\").\n",
    "        self._is_available = is_available  # True if book is available.\n",
    "        self._borrower = borrower  # Name of borrower or None if not borrowed.\n",
    "\n",
    "    # Encapsulation: Provide a method to borrow the book safely.\n",
    "    # Why? To control borrowing and prevent borrowing an unavailable book.\n",
    "    # What? Check availability, update borrower, and mark as unavailable.\n",
    "    def borrow(self, borrower_name):\n",
    "        # Thought: Only allow borrowing if the book is available.\n",
    "        if not self._is_available:\n",
    "            return f\"Error: '{self._title}' is already borrowed.\"\n",
    "        # Update state: mark as unavailable and set borrower.\n",
    "        self._is_available = False\n",
    "        self._borrower = borrower_name\n",
    "        return f\"'{self._title}' borrowed by {borrower_name}!\"\n",
    "\n",
    "    # Encapsulation: Provide a method to return the book.\n",
    "    # Why? To ensure the book is marked available and borrower is cleared.\n",
    "    # What? Check if the book is borrowed, then reset state.\n",
    "    def return_book(self):\n",
    "        # Thought: Only allow returning if the book is borrowed.\n",
    "        if self._is_available:\n",
    "            return f\"Error: '{self._title}' is already available.\"\n",
    "        # Reset state: mark as available and clear borrower.\n",
    "        self._is_available = True\n",
    "        self._borrower = None\n",
    "        return f\"'{self._title}' returned successfully!\"\n",
    "\n",
    "    # Encapsulation: Provide a method to check availability.\n",
    "    # Why? To let users see if the book can be borrowed without accessing _is_available directly.\n",
    "    # What? Return the availability status.\n",
    "    def is_available(self):\n",
    "        # Thought: Simply return the private attribute’s value.\n",
    "        return self._is_available\n",
    "\n",
    "    # Polymorphism: Customize how the book is printed.\n",
    "    # Why? To make book details easy to read when printed.\n",
    "    # What? Return a formatted string with all book info.\n",
    "    def __str__(self):\n",
    "        # Thought: Include borrower info only if the book is borrowed.\n",
    "        borrower_info = f\"Borrowed by: {self._borrower}\" if self._borrower else \"Available\"\n",
    "        return (f\"Book ID: {self._book_id}\\n\"\n",
    "                f\"Title: {self._title}\\n\"\n",
    "                f\"Author: {self._author}\\n\"\n",
    "                f\"Status: {borrower_info}\")\n",
    "\n",
    "    # Polymorphism: Customize how books are compared.\n",
    "    # Why? To check if two books are the same based on book_id.\n",
    "    # What? Compare book_id of two Book objects.\n",
    "    def __eq__(self, other):\n",
    "        # Thought: Ensure other is a Book object, then compare IDs.\n",
    "        if not isinstance(other, Book):\n",
    "            return False\n",
    "        return self._book_id == other._book_id"
   ]
  },
  {
   "cell_type": "code",
   "execution_count": 2,
   "id": "5a08dff5-51a6-4daa-b353-e95a180a8957",
   "metadata": {},
   "outputs": [],
   "source": [
    "# Test cases to verify the Book and Library classes.\n",
    "# Thought: Test all methods and edge cases to ensure the system works.\n",
    "\n",
    "# Create Book objects.\n",
    "book1 = Book(\"B001\", \"Python Basics\", \"John Doe\")\n",
    "book2 = Book(\"B002\", \"Data Science 101\", \"Jane Smith\")\n",
    "book3 = Book(\"B001\", \"Another Book\", \"Different Author\")  # Same ID as book1 for __eq__ test."
   ]
  },
  {
   "cell_type": "code",
   "execution_count": 3,
   "id": "c243b0ce-07e0-47c6-b0b5-0987f2ec8d2a",
   "metadata": {},
   "outputs": [
    {
     "name": "stdout",
     "output_type": "stream",
     "text": [
      "Testing Book class:\n",
      "Initial state of book1:\n",
      "Book ID: B001\n",
      "Title: Python Basics\n",
      "Author: John Doe\n",
      "Status: Available\n"
     ]
    }
   ],
   "source": [
    "# Test Book class methods.\n",
    "print(\"Testing Book class:\")\n",
    "print(\"Initial state of book1:\")\n",
    "print(book1)  # Expected: Book ID: B001, Title: Python Basics, Author: John Doe, Status: Available"
   ]
  },
  {
   "cell_type": "code",
   "execution_count": 4,
   "id": "63b3a653-44d5-4160-b813-b592bce4f498",
   "metadata": {},
   "outputs": [
    {
     "name": "stdout",
     "output_type": "stream",
     "text": [
      "Borrowing book1:\n",
      "'Python Basics' borrowed by Alice!\n",
      "Book ID: B001\n",
      "Title: Python Basics\n",
      "Author: John Doe\n",
      "Status: Borrowed by: Alice\n"
     ]
    }
   ],
   "source": [
    "print(\"Borrowing book1:\")\n",
    "print(book1.borrow(\"Alice\"))  # Expected: 'Python Basics' borrowed by Alice!\n",
    "print(book1)  # Expected: Status: Borrowed by: Alice"
   ]
  },
  {
   "cell_type": "code",
   "execution_count": 5,
   "id": "389a9cd2-a1ba-4075-9bae-f2ff520c0500",
   "metadata": {},
   "outputs": [
    {
     "name": "stdout",
     "output_type": "stream",
     "text": [
      "Trying to borrow book1 again:\n",
      "Error: 'Python Basics' is already borrowed.\n"
     ]
    }
   ],
   "source": [
    "print(\"Trying to borrow book1 again:\")\n",
    "print(book1.borrow(\"Bob\"))  # Expected: Error: 'Python Basics' is already borrowed."
   ]
  },
  {
   "cell_type": "code",
   "execution_count": 6,
   "id": "2156783c-d045-4b52-9418-a5d1c73565c8",
   "metadata": {},
   "outputs": [
    {
     "name": "stdout",
     "output_type": "stream",
     "text": [
      "Returning book1:\n",
      "'Python Basics' returned successfully!\n",
      "Book ID: B001\n",
      "Title: Python Basics\n",
      "Author: John Doe\n",
      "Status: Available\n"
     ]
    }
   ],
   "source": [
    "print(\"Returning book1:\")\n",
    "print(book1.return_book())  # Expected: 'Python Basics' returned successfully!\n",
    "print(book1)  # Expected: Status: Available"
   ]
  },
  {
   "cell_type": "code",
   "execution_count": 7,
   "id": "a8beee40-1d80-4fa3-82a1-dd185939d45d",
   "metadata": {},
   "outputs": [
    {
     "name": "stdout",
     "output_type": "stream",
     "text": [
      "Trying to return book1 again:\n",
      "Error: 'Python Basics' is already available.\n"
     ]
    }
   ],
   "source": [
    "print(\"Trying to return book1 again:\")\n",
    "print(book1.return_book())  # Expected: Error: 'Python Basics' is already available."
   ]
  },
  {
   "cell_type": "code",
   "execution_count": 8,
   "id": "ebbb4e61-dcba-440d-963f-daa9770aa637",
   "metadata": {},
   "outputs": [
    {
     "name": "stdout",
     "output_type": "stream",
     "text": [
      "Checking availability:\n",
      "True\n"
     ]
    }
   ],
   "source": [
    "print(\"Checking availability:\")\n",
    "print(book1.is_available())  # Expected: True"
   ]
  },
  {
   "cell_type": "code",
   "execution_count": 9,
   "id": "27929e71-343e-4624-923c-cee0e0466082",
   "metadata": {},
   "outputs": [
    {
     "name": "stdout",
     "output_type": "stream",
     "text": [
      "Comparing books:\n",
      "False\n",
      "True\n"
     ]
    }
   ],
   "source": [
    "print(\"Comparing books:\")\n",
    "print(book1 == book2)  # Expected: False (different IDs)\n",
    "print(book1 == book3)  # Expected: True (same ID)"
   ]
  },
  {
   "cell_type": "code",
   "execution_count": 10,
   "id": "9ed9bdf6-e085-4f4e-8e0c-79638cffcccd",
   "metadata": {},
   "outputs": [],
   "source": [
    "# Library class to manage a collection of Book objects.\n",
    "class Library:\n",
    "    # Composition: The Library contains Book objects.\n",
    "    # Why? To model a library that \"has\" many books.\n",
    "    # What? Store books in a list and provide methods to manage them.\n",
    "    def __init__(self):\n",
    "        # Thought: Initialize an empty list to hold books.\n",
    "        # Encapsulation: Use a private list to protect the collection.\n",
    "        self._books = []  # List to store Book objects.\n",
    "\n",
    "    # Composition: Add a book to the library’s collection.\n",
    "    # Why? To allow the library to grow its inventory.\n",
    "    # What? Append a Book object to the list.\n",
    "    def add_book(self, book):\n",
    "        # Thought: Ensure the input(book) is a Book object to avoid errors.\n",
    "        if not isinstance(book, Book): # composition\n",
    "            return \"Error: Only Book objects can be added.\"\n",
    "        self._books.append(book)\n",
    "        return f\"'{book._title}' added to the library!\"\n",
    "\n",
    "    # Composition: Find a book by its ID.\n",
    "    # Why? To let users locate a specific book easily.\n",
    "    # What? Search the list and return the matching book or an error.\n",
    "    def find_book(self, book_id):\n",
    "        # Thought: Loop through books and check book_id.\n",
    "        for book in self._books:\n",
    "            if book._book_id == book_id:\n",
    "                return book\n",
    "        return f\"Error: Book with ID {book_id} not found.\"\n",
    "\n",
    "    # Composition: List all available books.\n",
    "    # Why? To show users which books they can borrow.\n",
    "    # What? Filter books by availability and print their details.\n",
    "    def list_available_books(self):\n",
    "        # Thought: Check if any books are available, then print them.\n",
    "        available_books = [book for book in self._books if book.is_available()]\n",
    "        if not available_books:\n",
    "            return \"No books available.\"\n",
    "        # Use __str__ from Book class (Polymorphism) to format output.\n",
    "        return \"\\n\".join(str(book) for book in available_books)"
   ]
  },
  {
   "cell_type": "code",
   "execution_count": 11,
   "id": "a0b5ce06-6f0d-47a6-964c-7c8b765d8fe1",
   "metadata": {},
   "outputs": [
    {
     "name": "stdout",
     "output_type": "stream",
     "text": [
      "Testing Library class:\n"
     ]
    }
   ],
   "source": [
    "# Test Library class methods.\n",
    "print(\"Testing Library class:\")\n",
    "library = Library()"
   ]
  },
  {
   "cell_type": "code",
   "execution_count": 12,
   "id": "1c90ae81-5e8e-4d23-a360-0bd13c6c2497",
   "metadata": {},
   "outputs": [
    {
     "name": "stdout",
     "output_type": "stream",
     "text": [
      "Adding books to library:\n",
      "'Python Basics' added to the library!\n",
      "'Data Science 101' added to the library!\n",
      "Error: Only Book objects can be added.\n"
     ]
    }
   ],
   "source": [
    "print(\"Adding books to library:\")\n",
    "print(library.add_book(book1))  # Expected: 'Python Basics' added to the library!\n",
    "print(library.add_book(book2))  # Expected: 'Data Science 101' added to the library!\n",
    "print(library.add_book(\"Not a book\"))  # Expected: Error: Only Book objects can be added."
   ]
  },
  {
   "cell_type": "code",
   "execution_count": 13,
   "id": "acbe4209-a544-4056-b234-32d2cdd1efb3",
   "metadata": {},
   "outputs": [
    {
     "name": "stdout",
     "output_type": "stream",
     "text": [
      "Listing available books:\n",
      "Book ID: B001\n",
      "Title: Python Basics\n",
      "Author: John Doe\n",
      "Status: Available\n",
      "Book ID: B002\n",
      "Title: Data Science 101\n",
      "Author: Jane Smith\n",
      "Status: Available\n"
     ]
    }
   ],
   "source": [
    "print(\"Listing available books:\")\n",
    "print(library.list_available_books())  # Expected: Details of book1 and book2"
   ]
  },
  {
   "cell_type": "code",
   "execution_count": 14,
   "id": "1377bb2f-f431-41c0-8c52-0d988a3eeff6",
   "metadata": {},
   "outputs": [
    {
     "name": "stdout",
     "output_type": "stream",
     "text": [
      "Borrowing book2:\n",
      "\n",
      "Listing available books after borrowing:\n",
      "Book ID: B001\n",
      "Title: Python Basics\n",
      "Author: John Doe\n",
      "Status: Available\n"
     ]
    }
   ],
   "source": [
    "print(\"Borrowing book2:\")\n",
    "book2.borrow(\"Charlie\")  # Mark book2 as borrowed.\n",
    "print(\"\\nListing available books after borrowing:\")\n",
    "print(library.list_available_books())  # Expected: Only book1 details\n",
    "\n",
    "\n",
    "\"\"\"\n",
    "        available_books = [book for book in self._books if book.is_available()]\n",
    "\n",
    "# In this code it is checking the if the book is available then only add that book to this list\n",
    "# So, since we have borrowed book2 that's why it not added to the list in the output \n",
    "\n",
    "\n",
    "\"\"\""
   ]
  },
  {
   "cell_type": "code",
   "execution_count": 16,
   "id": "51400d3f-8588-4977-bea6-7f411f536a9b",
   "metadata": {},
   "outputs": [
    {
     "name": "stdout",
     "output_type": "stream",
     "text": [
      "Finding a book:\n",
      "Book ID: B001\n",
      "Title: Python Basics\n",
      "Author: John Doe\n",
      "Status: Available\n",
      "Error: Book with ID B999 not found.\n"
     ]
    }
   ],
   "source": [
    "print(\"Finding a book:\")\n",
    "found_book = library.find_book(\"B001\")\n",
    "print(found_book)  # Expected: book1 details\n",
    "print(library.find_book(\"B999\"))  # Expected: Error: Book with ID B999 not found."
   ]
  },
  {
   "cell_type": "markdown",
   "id": "40909825-3ff6-45f4-b8ac-f7abe4ee1c49",
   "metadata": {},
   "source": [
    "# Step-by-Step Explanation of list_available_books\n",
    "Let’s dissect the method to see how __str__ is called and why it works:\n",
    "\n",
    "## Filtering Available Books:\n",
    "\n",
    "```{code-cell} python\n",
    "available_books = [book for book in self._books if book.is_available()]\n",
    "```\n",
    "\n",
    "What: This creates a list of Book objects from self._books where book.is_available() returns True.\n",
    "\n",
    "How: self._books is a list of Book objects (stored via add_book). Each book is an instance of the Book class \n",
    "\n",
    "Thought Process: I used a list comprehension to filter books, thinking about a librarian checking which books are on the shelf. Each book is a Book object with methods like is_available().\n",
    "\n",
    "OOP Pillar: Composition. The Library contains Book objects in self._books.\n",
    "\n",
    "## Checking for Empty List:\n",
    "\n",
    "```{code-cell} python\n",
    "if not available_books:\n",
    "    return \"No books available.\"\n",
    "```\n",
    "\n",
    "    \n",
    "What: If no books are available, return a simple string.\n",
    "\n",
    "How: This avoids trying to process an empty list.\n",
    "\n",
    "Thought Process: I added this check to handle the edge case where the library has no available books, ensuring the method always returns something meaningful.\n",
    "\n",
    "## Converting Books to Strings:\n",
    "\n",
    "\n",
    "```{code-cell} python\n",
    "return \"\\n\".join(str(book) for book in available_books)\n",
    "```\n",
    "\n",
    "\n",
    "What: This joins the string representations of all available Book objects with newlines (\\n) between them.\n",
    "\n",
    "How: available_books is a list of Book objects.\n",
    "\n",
    "The generator expression str(book) for book in available_books calls str() on each Book object.\n",
    "For each book, Python looks for Book’s __str__ method (defined in the Book class):\n",
    "\n",
    "```{code-cell} python\n",
    "def __str__(self):\n",
    "    borrower_info = f\"Borrowed by: {self._borrower}\" if self._borrower else \"Available\"\n",
    "    return (f\"Book ID: {self._book_id}\\n\"\n",
    "            f\"Title: {self._title}\\n\"\n",
    "            f\"Author: {self._author}\\n\"\n",
    "            f\"Status: {borrower_info}\")\n",
    "```\n",
    "\n",
    "            \n",
    "This returns a formatted string (e.g., Book ID: B001\\nTitle: Python Basics\\n...).\n",
    "\n",
    "\"\\n\".join(...) combines these strings with newlines, creating one big string.\n",
    "\n",
    "## Why __str__ is Called Automatically:\n",
    "\n",
    "When you write str(book), Python checks the book object’s class (Book) for a __str__ method.\n",
    "\n",
    "Since Book defines __str__, Python calls it to get the string representation.\n",
    "\n",
    "This is polymorphism: str() works on any object, but the result depends on the object’s class-specific __str__.\n",
    "\n",
    "Thought Process: I chose to use str(book) because it leverages Book’s __str__ method, avoiding duplicate formatting code. I used join with \\n to make the output readable, like a list of book details. I considered printing directly but returned a string for flexibility (e.g., the caller can print or store it).\n",
    "\n",
    "OOP Pillar: Polymorphism. The Library class uses Book’s __str__ method without needing to know how it’s implemented."
   ]
  },
  {
   "cell_type": "code",
   "execution_count": null,
   "id": "5fe007df-7dd7-44a7-a597-4bec7c66f52f",
   "metadata": {},
   "outputs": [],
   "source": []
  }
 ],
 "metadata": {
  "kernelspec": {
   "display_name": "Python 3 (ipykernel)",
   "language": "python",
   "name": "python3"
  },
  "language_info": {
   "codemirror_mode": {
    "name": "ipython",
    "version": 3
   },
   "file_extension": ".py",
   "mimetype": "text/x-python",
   "name": "python",
   "nbconvert_exporter": "python",
   "pygments_lexer": "ipython3",
   "version": "3.12.4"
  }
 },
 "nbformat": 4,
 "nbformat_minor": 5
}
