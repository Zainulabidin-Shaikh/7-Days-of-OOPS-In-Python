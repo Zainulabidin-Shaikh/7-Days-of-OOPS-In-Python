{
 "cells": [
  {
   "cell_type": "code",
   "execution_count": 1,
   "id": "6ced35ec-f9fe-4acb-b42d-773c47960926",
   "metadata": {},
   "outputs": [],
   "source": [
    "class User:\n",
    "    # def __init__(self):\n",
    "    #     self.name = name\n",
    "    #     self.id = id \n",
    "    def login(self):\n",
    "        return \"Logged in!\"\n",
    "    def logout(self):\n",
    "        return \"Logged out!\"\n",
    "    def _protected(self): # cant be access by child class\n",
    "        pass\n",
    "    def __private(self): # cant be access by child class\n",
    "        pass\n",
    "\n",
    "class Student(User):\n",
    "    pass"
   ]
  },
  {
   "cell_type": "code",
   "execution_count": 2,
   "id": "4816c927-7ea1-40e2-865b-97f1878e0fd5",
   "metadata": {},
   "outputs": [],
   "source": [
    "u1 = User()"
   ]
  },
  {
   "cell_type": "code",
   "execution_count": 3,
   "id": "47f03aa3-0c1c-4fdd-9978-babf0c36fe42",
   "metadata": {},
   "outputs": [],
   "source": [
    "s1 = Student()"
   ]
  },
  {
   "cell_type": "code",
   "execution_count": 4,
   "id": "1cdfc13b-226f-4d4c-b0ed-efdd90bc78f2",
   "metadata": {},
   "outputs": [
    {
     "data": {
      "text/plain": [
       "'Logged in!'"
      ]
     },
     "execution_count": 4,
     "metadata": {},
     "output_type": "execute_result"
    }
   ],
   "source": [
    "s1.login()"
   ]
  },
  {
   "cell_type": "code",
   "execution_count": 5,
   "id": "13daf093-2a75-4dc2-a75e-4bc11ae982df",
   "metadata": {},
   "outputs": [
    {
     "data": {
      "text/plain": [
       "'Logged out!'"
      ]
     },
     "execution_count": 5,
     "metadata": {},
     "output_type": "execute_result"
    }
   ],
   "source": [
    "s1.logout()"
   ]
  },
  {
   "cell_type": "code",
   "execution_count": 6,
   "id": "cf6c0288-199e-45b6-8089-29bf8f688562",
   "metadata": {},
   "outputs": [
    {
     "ename": "AttributeError",
     "evalue": "'Student' object has no attribute 'private'",
     "output_type": "error",
     "traceback": [
      "\u001b[1;31m---------------------------------------------------------------------------\u001b[0m",
      "\u001b[1;31mAttributeError\u001b[0m                            Traceback (most recent call last)",
      "Cell \u001b[1;32mIn[6], line 1\u001b[0m\n\u001b[1;32m----> 1\u001b[0m \u001b[43ms1\u001b[49m\u001b[38;5;241;43m.\u001b[39;49m\u001b[43mprivate\u001b[49m()\n",
      "\u001b[1;31mAttributeError\u001b[0m: 'Student' object has no attribute 'private'"
     ]
    }
   ],
   "source": [
    "s1.private()"
   ]
  },
  {
   "cell_type": "code",
   "execution_count": 7,
   "id": "d9f7fa27-368c-40dc-8642-a72433fa08e9",
   "metadata": {},
   "outputs": [
    {
     "ename": "AttributeError",
     "evalue": "'Student' object has no attribute 'protected'",
     "output_type": "error",
     "traceback": [
      "\u001b[1;31m---------------------------------------------------------------------------\u001b[0m",
      "\u001b[1;31mAttributeError\u001b[0m                            Traceback (most recent call last)",
      "Cell \u001b[1;32mIn[7], line 1\u001b[0m\n\u001b[1;32m----> 1\u001b[0m \u001b[43ms1\u001b[49m\u001b[38;5;241;43m.\u001b[39;49m\u001b[43mprotected\u001b[49m()\n",
      "\u001b[1;31mAttributeError\u001b[0m: 'Student' object has no attribute 'protected'"
     ]
    }
   ],
   "source": [
    "s1.protected()"
   ]
  },
  {
   "cell_type": "code",
   "execution_count": 8,
   "id": "6355f461-1ca5-4157-ad8b-28425cc16536",
   "metadata": {},
   "outputs": [],
   "source": [
    "class User:\n",
    "    def __init__(self,name,id,age,passcode):\n",
    "        self.name = name\n",
    "        self.id = id\n",
    "        self.age = age\n",
    "        self.passcode = passcode\n",
    "    def login(self):\n",
    "        return \"Logged in!\"\n",
    "    def logout(self):\n",
    "        return \"Logged out!\"\n",
    "    def _protected(self): # cant be access by child class\n",
    "        pass\n",
    "    def __private(self): # cant be access by child class\n",
    "        pass\n"
   ]
  },
  {
   "cell_type": "code",
   "execution_count": 9,
   "id": "ae2ff87a-6e69-4787-a013-85a86bb0b982",
   "metadata": {},
   "outputs": [],
   "source": [
    "class Student(User):\n",
    "    def __init__(self,marks,rollnumber,name,id,age,passcode):\n",
    "        self.marks = marks\n",
    "        self.rollnumber = rollnumber\n",
    "        self.name = name\n",
    "        self.id = id\n",
    "        self.age = age\n",
    "        self.passcode = passcode"
   ]
  },
  {
   "cell_type": "code",
   "execution_count": 10,
   "id": "3ec199d8-4308-4e89-985c-b1d516062870",
   "metadata": {},
   "outputs": [],
   "source": [
    "s1 = Student(100,11,\"Zain\",1,18,000)"
   ]
  },
  {
   "cell_type": "markdown",
   "id": "a9156691-32e3-49c9-b094-0db1524a1717",
   "metadata": {},
   "source": [
    "Here, we have some attribute exactly same but we are making them in both parent and child classes which is not the good practice\n",
    "\n",
    "OOP is a concept which makes thing easier!"
   ]
  },
  {
   "attachments": {
    "19fbf9b1-873a-4ca7-976e-bb2c69b43932.png": {
     "image/png": "[encoded data removed]"
    }
   },
   "cell_type": "markdown",
   "id": "a240feb9-5e1d-4e4c-b8bd-dbde06c1014b",
   "metadata": {},
   "source": [
    "![image.png](attachment:19fbf9b1-873a-4ca7-976e-bb2c69b43932.png)"
   ]
  },
  {
   "attachments": {
    "083e0735-0336-40fe-9af5-157203e61ae5.png": {
     "image/png": "[encoded data removed]"
    }
   },
   "cell_type": "markdown",
   "id": "c30c7449-2033-4b7c-b44d-487bf953fbba",
   "metadata": {},
   "source": [
    "![image.png](attachment:083e0735-0336-40fe-9af5-157203e61ae5.png)"
   ]
  },
  {
   "cell_type": "markdown",
   "id": "0827d080-2808-4a04-ac40-2553fdbfb339",
   "metadata": {},
   "source": [
    "## Correct method, using super() : "
   ]
  },
  {
   "cell_type": "code",
   "execution_count": 11,
   "id": "daa161a5-efda-4527-8a26-64b0791773be",
   "metadata": {},
   "outputs": [],
   "source": [
    "class Student(User):\n",
    "    def __init__(self,marks,rollnumber,name,id,age,passcode):\n",
    "\n",
    "        super().__init__(name,id,age,passcode)\n",
    "        self.marks = marks\n",
    "        self.rollnumber = rollnumber \n",
    "    def login(self):\n",
    "        pass"
   ]
  },
  {
   "cell_type": "code",
   "execution_count": 12,
   "id": "b5c5ac6e-9fae-4313-b2fa-68e656a09715",
   "metadata": {},
   "outputs": [
    {
     "ename": "TypeError",
     "evalue": "Student.__init__() missing 4 required positional arguments: 'name', 'id', 'age', and 'passcode'",
     "output_type": "error",
     "traceback": [
      "\u001b[1;31m---------------------------------------------------------------------------\u001b[0m",
      "\u001b[1;31mTypeError\u001b[0m                                 Traceback (most recent call last)",
      "Cell \u001b[1;32mIn[12], line 1\u001b[0m\n\u001b[1;32m----> 1\u001b[0m s1 \u001b[38;5;241m=\u001b[39m \u001b[43mStudent\u001b[49m\u001b[43m(\u001b[49m\u001b[38;5;241;43m100\u001b[39;49m\u001b[43m,\u001b[49m\u001b[38;5;241;43m11\u001b[39;49m\u001b[43m)\u001b[49m \u001b[38;5;66;03m# giving only marks and rollnumber\u001b[39;00m\n",
      "\u001b[1;31mTypeError\u001b[0m: Student.__init__() missing 4 required positional arguments: 'name', 'id', 'age', and 'passcode'"
     ]
    }
   ],
   "source": [
    "s1 = Student(100,11) # giving only marks and rollnumber"
   ]
  },
  {
   "cell_type": "markdown",
   "id": "3f6b3e4a-5662-4ed2-a82a-4cffdd62dfd1",
   "metadata": {},
   "source": [
    "we  have to provide these all..."
   ]
  },
  {
   "cell_type": "code",
   "execution_count": 13,
   "id": "4c5ffe17-a678-49a4-9488-51fe596c01f7",
   "metadata": {},
   "outputs": [],
   "source": [
    "s1 = Student(100,11,\"Zain\",111,18,000)"
   ]
  },
  {
   "cell_type": "markdown",
   "id": "be7e954b-4268-434d-86d3-07fb7ced7af2",
   "metadata": {},
   "source": [
    "its working!"
   ]
  },
  {
   "cell_type": "markdown",
   "id": "84d6dd97-7e5e-4bb5-a4c5-feb80b46136a",
   "metadata": {},
   "source": [
    "but we cannot use it outside like this : "
   ]
  },
  {
   "cell_type": "code",
   "execution_count": 14,
   "id": "78e4c9fb-bec7-4126-b2c5-268378f194be",
   "metadata": {},
   "outputs": [
    {
     "ename": "AttributeError",
     "evalue": "'Student' object has no attribute 'super'",
     "output_type": "error",
     "traceback": [
      "\u001b[1;31m---------------------------------------------------------------------------\u001b[0m",
      "\u001b[1;31mAttributeError\u001b[0m                            Traceback (most recent call last)",
      "Cell \u001b[1;32mIn[14], line 1\u001b[0m\n\u001b[1;32m----> 1\u001b[0m \u001b[43ms1\u001b[49m\u001b[38;5;241;43m.\u001b[39;49m\u001b[43msuper\u001b[49m()\u001b[38;5;241m.\u001b[39mlogin()\n",
      "\u001b[1;31mAttributeError\u001b[0m: 'Student' object has no attribute 'super'"
     ]
    }
   ],
   "source": [
    "s1.super().login()"
   ]
  },
  {
   "cell_type": "markdown",
   "id": "7b6a77f3-5b50-4681-ba89-38263151232d",
   "metadata": {},
   "source": [
    "another use case: "
   ]
  },
  {
   "cell_type": "code",
   "execution_count": 23,
   "id": "aa6c9734-a977-4af9-87b7-086633515bdb",
   "metadata": {},
   "outputs": [],
   "source": [
    "class User:\n",
    "    def __init__(self,name,id,age,passcode):\n",
    "        self.name = name\n",
    "        self.id = id\n",
    "        self.age = age\n",
    "        self.passcode = passcode\n",
    "    def login(self):\n",
    "         print(\"Logged in!\")"
   ]
  },
  {
   "cell_type": "code",
   "execution_count": 24,
   "id": "75d0c8ee-8589-4fe2-87f9-565ebb94b3b4",
   "metadata": {},
   "outputs": [],
   "source": [
    "class Student(User):\n",
    "    def __init__(self,marks,rollnumber,name,id,age,passcode):\n",
    "\n",
    "        super().__init__(name,id,age,passcode)\n",
    "        self.marks = marks\n",
    "        self.rollnumber = rollnumber \n",
    "    def login(self):\n",
    "        print(\"OTP sent!\")\n",
    "        super().login()"
   ]
  },
  {
   "cell_type": "code",
   "execution_count": 25,
   "id": "ce4f1347-a707-45e9-94ad-158ed7bec0ee",
   "metadata": {},
   "outputs": [],
   "source": [
    "s1 = Student(100,11,\"Zain\",111,18,000)"
   ]
  },
  {
   "cell_type": "code",
   "execution_count": 26,
   "id": "c0c55490-34a5-42c1-948e-74f9078aca38",
   "metadata": {},
   "outputs": [
    {
     "name": "stdout",
     "output_type": "stream",
     "text": [
      "OTP sent!\n",
      "Logged in!\n"
     ]
    }
   ],
   "source": [
    "s1.login()"
   ]
  },
  {
   "cell_type": "markdown",
   "id": "50eb3548-4c01-46c1-b837-aa3d5ce1fa7c",
   "metadata": {},
   "source": [
    "we can use methods with super() but we cannot use variables (for e.g. name,id) with super()"
   ]
  },
  {
   "cell_type": "markdown",
   "id": "7e505bad-29d5-4294-a8ff-4f19c1c08ae0",
   "metadata": {},
   "source": [
    "## Final program to understand everything about inheritance:"
   ]
  },
  {
   "cell_type": "code",
   "execution_count": 27,
   "id": "4c5827c2-ed97-4a71-936f-0514c7f20afb",
   "metadata": {},
   "outputs": [],
   "source": [
    "class User:\n",
    "    def __init__(self):\n",
    "        print(\"User Constructor\")\n",
    "        self.website = \"www.flipkart.com\"\n",
    "        self._field = \"ecommerce\" # protected Member\n",
    "        self.__duration = \"12 months\" #Private\n",
    "        self.__name = \"flipkart User\"\n",
    "    def login(self):\n",
    "        print(\"logged in\")\n",
    "        \n",
    "    def logout(self):\n",
    "        print(\"logged out\") "
   ]
  },
  {
   "cell_type": "code",
   "execution_count": 28,
   "id": "fcce1126-d991-4dac-a076-470e3f8f0237",
   "metadata": {},
   "outputs": [],
   "source": [
    "class Buyer(User):\n",
    "    def __init__(self):\n",
    "        print(\"Buyer Constructor\")\n",
    "        super().__init__()\n",
    "        self.website =\"www.amazon.in\"\n",
    "        self.__name = \"Buyer\"\n",
    "    \n",
    "    def login(self):\n",
    "        super().logout()\n",
    "        \n",
    "        print(\"mentor logged in\")\n",
    "        print(self._field) # accessible\n",
    "        print(self.__name) # Not Accessible"
   ]
  },
  {
   "cell_type": "code",
   "execution_count": 30,
   "id": "6e662c36-ce7b-4b79-8ffe-8c8db3e3927a",
   "metadata": {},
   "outputs": [
    {
     "name": "stdout",
     "output_type": "stream",
     "text": [
      "Buyer Constructor\n",
      "User Constructor\n"
     ]
    }
   ],
   "source": [
    "b1 = Buyer()"
   ]
  },
  {
   "cell_type": "code",
   "execution_count": 32,
   "id": "14c1ea15-4181-4f04-8bef-1d33b4daafe0",
   "metadata": {},
   "outputs": [
    {
     "ename": "AttributeError",
     "evalue": "'Buyer' object has no attribute 'name'",
     "output_type": "error",
     "traceback": [
      "\u001b[1;31m---------------------------------------------------------------------------\u001b[0m",
      "\u001b[1;31mAttributeError\u001b[0m                            Traceback (most recent call last)",
      "Cell \u001b[1;32mIn[32], line 1\u001b[0m\n\u001b[1;32m----> 1\u001b[0m \u001b[43mb1\u001b[49m\u001b[38;5;241;43m.\u001b[39;49m\u001b[43mname\u001b[49m\n",
      "\u001b[1;31mAttributeError\u001b[0m: 'Buyer' object has no attribute 'name'"
     ]
    }
   ],
   "source": [
    "b1.name"
   ]
  },
  {
   "cell_type": "code",
   "execution_count": 34,
   "id": "af8bdc64-de0b-48ee-9119-bc0d20aa5535",
   "metadata": {},
   "outputs": [
    {
     "data": {
      "text/plain": [
       "'www.amazon.in'"
      ]
     },
     "execution_count": 34,
     "metadata": {},
     "output_type": "execute_result"
    }
   ],
   "source": [
    "b1.website # here both have .website so when we access the website from child class perspective we will get the website name listed in the child class"
   ]
  },
  {
   "cell_type": "code",
   "execution_count": 37,
   "id": "113666cc-6d41-4e72-b5c0-658490e5aa52",
   "metadata": {},
   "outputs": [
    {
     "name": "stdout",
     "output_type": "stream",
     "text": [
      "=== Creating Buyer object ===\n",
      "Buyer Constructor\n",
      "User Constructor\n",
      "\n",
      "=== Accessing website ===\n",
      "Website: www.amazon.in\n",
      "\n",
      "=== Accessing protected _field ===\n",
      "Protected field: ecommerce\n",
      "\n",
      "=== Trying to access private __name ===\n",
      "Error: Cannot access private __name directly\n",
      "\n",
      "=== Calling login method ===\n",
      "logged out\n",
      "mentor logged in\n",
      "ecommerce\n",
      "Buyer\n",
      "\n",
      "=== Calling logout method ===\n",
      "logged out\n"
     ]
    }
   ],
   "source": [
    "def test_inheritance():\n",
    "    print(\"=== Creating Buyer object ===\")\n",
    "    b1 = Buyer()  # Will call both Buyer and User constructors\n",
    "    \n",
    "    print(\"\\n=== Accessing website ===\")\n",
    "    print(f\"Website: {b1.website}\")  # Accesses Buyer's website (www.amazon.in)\n",
    "    # Explanation: Child class overrides parent's website attribute\n",
    "    \n",
    "    print(\"\\n=== Accessing protected _field ===\")\n",
    "    print(f\"Protected field: {b1._field}\")  # Accesses User's _field (ecommerce)\n",
    "    # Explanation: Protected members are accessible in child class (by convention)\n",
    "    \n",
    "    print(\"\\n=== Trying to access private __name ===\")\n",
    "    try:\n",
    "        print(b1.__name)  # Will raise AttributeError\n",
    "    except AttributeError:\n",
    "        print(\"Error: Cannot access private __name directly\")\n",
    "    # Explanation: Private attributes are name-mangled and not directly accessible\n",
    "       \n",
    "    print(\"\\n=== Calling login method ===\")\n",
    "    b1.login()  # Calls Buyer's login, which calls User's logout\n",
    "    # Explanation: Child's login overrides parent's; super() allows calling parent's methods\n",
    "    \n",
    "    print(\"\\n=== Calling logout method ===\")\n",
    "    b1.logout()  # Calls User's logout (not overridden in Buyer)\n",
    "    # Explanation: Since Buyer doesn't override logout, parent's method is used\n",
    "\n",
    "# Run the test\n",
    "if __name__ == \"__main__\":\n",
    "    test_inheritance()"
   ]
  },
  {
   "cell_type": "code",
   "execution_count": null,
   "id": "c7c51347-ed0d-4454-97ab-de170327ee5b",
   "metadata": {},
   "outputs": [],
   "source": []
  }
 ],
 "metadata": {
  "kernelspec": {
   "display_name": "Python 3 (ipykernel)",
   "language": "python",
   "name": "python3"
  },
  "language_info": {
   "codemirror_mode": {
    "name": "ipython",
    "version": 3
   },
   "file_extension": ".py",
   "mimetype": "text/x-python",
   "name": "python",
   "nbconvert_exporter": "python",
   "pygments_lexer": "ipython3",
   "version": "3.12.4"
  }
 },
 "nbformat": 4,
 "nbformat_minor": 5
}
