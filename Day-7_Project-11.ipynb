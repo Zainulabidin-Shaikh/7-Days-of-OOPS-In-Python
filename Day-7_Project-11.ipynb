{
 "cells": [
  {
   "cell_type": "markdown",
   "id": "adef0a99-6f10-42ff-b63e-094c729bd134",
   "metadata": {},
   "source": [
    "## 🐶 Project 1: Pet Adoption Center\r\n",
    "\r\n",
    "### 📝 Description\r\n",
    "The **Pet Adoption Center** is a simple OOP system to manage pets available for adoption. Users can add pets, mark them as adopted, and view their status. It focuses on **Encapsulation** and **Composition**.\r\n",
    "\r\n",
    "---\r\n",
    "\r\n",
    "### 🔧 Features\r\n",
    "- Add pets with name and species.\r\n",
    "- Mark pets as adopted.\r\n",
    "- Display all pets with their adoption status.\r\n",
    "\r\n",
    "---\r\n",
    "\r\n",
    "### 🏗️ Class Structure\r\n",
    "- **`Pet`**:\r\n",
    "  - **Attributes**: `name`, `species`, `is_adopted`.\r\n",
    "  - **Methods**:\r\n",
    "    - `__init__(name, species)` → Initialize pet.\r\n",
    "    - `adopt_pet()` → Mark as adopted.\r\n",
    "    - `__str__()` → Show pet details.\r\n",
    "\r\n",
    "- **`AdoptionCenter`**:\r\n",
    "  - **Attributes**: `pets` (list of `Pet` objects).\r\n",
    "  - **Methods**:\r\n",
    "    - `add_pet(name, species)` → Add a pet.\r\n",
    "    - `display_pets()` → Show all pets.\r\n",
    "\r\n",
    "---\r\n",
    "\r\n",
    "### ✅ Learning Outcomes\r\n",
    "- ✅ **Encapsulation**: Protect pet data with private attributes.\r\n",
    "- ✅ **Composition**: Manage a list of pets in `AdoptionCenter`.\r\n",
    "- ✅ **Abstraction**: Hide status logic in methods.\r\n",
    "\r\n",
    "---\r\n",
    "\r\n",
    "### 🧪 Example Usage\r\n",
    "```python\r\n",
    "center = AdoptionCenter()\r\n",
    "center.add_pet(\"Max\", \"Dog\")\r\n",
    "center.add_pet(\"Luna\", \"Cat\")\r\n",
    "print(center.display_pets())  # Shows Max and Luna as available\r\n",
    "pet = center._pets[0]\r\n",
    "pet.adopt_pet()\r\n",
    "print(center.display_pets())  # Shows Max as adopted\r\n",
    "```"
   ]
  },
  {
   "cell_type": "code",
   "execution_count": 20,
   "id": "0793c4b3-2349-4481-8e7b-949a6d53bc76",
   "metadata": {},
   "outputs": [
    {
     "name": "stdout",
     "output_type": "stream",
     "text": [
      "Added Max to the adoption center.\n",
      "Added Luna to the adoption center.\n",
      "Available Pets:\n",
      "Pet: Max, Species: Dog, Status: Available\n",
      "Pet: Luna, Species: Cat, Status: Available\n",
      "\n",
      "Max has been adopted!\n",
      "Max is already adopted.\n",
      "Available Pets:\n",
      "Pet: Max, Species: Dog, Status: Adopted\n",
      "Pet: Luna, Species: Cat, Status: Available\n",
      "\n"
     ]
    }
   ],
   "source": [
    "class Pet:\n",
    "\n",
    "    def __init__(self, name, species):\n",
    "        if not isinstance(name, str) or not name:\n",
    "            raise ValueError(\"Name must be a non-empty string.\")\n",
    "        if not isinstance(species, str) or not species:\n",
    "            raise ValueError(\"Species must be a non-empty string.\")\n",
    "        \n",
    "        self._name = name  # Pet's name (e.g., \"Max\")\n",
    "        self._species = species  # Pet's species (e.g., \"Dog\")\n",
    "        self._is_adopted = False  # Track if the pet is adopted (False means available)\n",
    "\n",
    "    def adopt_pet(self):\n",
    "        if self._is_adopted:\n",
    "            return f\"{self._name} is already adopted.\"\n",
    "        self._is_adopted = True\n",
    "        return f\"{self._name} has been adopted!\"\n",
    "\n",
    "    def __str__(self):\n",
    "        status = \"Adopted\" if self._is_adopted else \"Available\"\n",
    "        return f\"Pet: {self._name}, Species: {self._species}, Status: {status}\"\n",
    "\n",
    "class AdoptionCenter:\n",
    "    def __init__(self):\n",
    "        self._pets = []  # List to store Pet objects\n",
    "\n",
    "    def add_pet(self, name, species):\n",
    "        pet = Pet(name, species)\n",
    "        self._pets.append(pet)\n",
    "        return f\"Added {name} to the adoption center.\"\n",
    "\n",
    "    def display_pets(self):\n",
    "        if not self._pets:\n",
    "            return \"The adoption center has no pets.\"\n",
    "        result = \"Available Pets:\\n\"\n",
    "        for pet in self._pets:\n",
    "            result += str(pet) + \"\\n\"\n",
    "        return result\n"
   ]
  },
  {
   "cell_type": "code",
   "execution_count": 21,
   "id": "2c1c86cc-c184-46cd-9a11-989f75b680d9",
   "metadata": {},
   "outputs": [],
   "source": [
    "# Test the adoption center system\n",
    "center = AdoptionCenter()"
   ]
  },
  {
   "cell_type": "code",
   "execution_count": 22,
   "id": "8686f239-edf7-4e32-9fe3-2147427a88f7",
   "metadata": {},
   "outputs": [
    {
     "name": "stdout",
     "output_type": "stream",
     "text": [
      "Added Max to the adoption center.\n",
      "Added Luna to the adoption center.\n"
     ]
    }
   ],
   "source": [
    "print(center.add_pet(\"Max\", \"Dog\"))\n",
    "print(center.add_pet(\"Luna\", \"Cat\"))"
   ]
  },
  {
   "cell_type": "code",
   "execution_count": 23,
   "id": "275964ac-87c3-4650-8b28-1ff51436bed5",
   "metadata": {},
   "outputs": [
    {
     "name": "stdout",
     "output_type": "stream",
     "text": [
      "Available Pets:\n",
      "Pet: Max, Species: Dog, Status: Available\n",
      "Pet: Luna, Species: Cat, Status: Available\n",
      "\n"
     ]
    }
   ],
   "source": [
    "print(center.display_pets())"
   ]
  },
  {
   "cell_type": "code",
   "execution_count": 24,
   "id": "05d415ba-1fe4-4190-9669-e90dbc10d4d4",
   "metadata": {},
   "outputs": [],
   "source": [
    "pet1 = center._pets[0]  # Get the first pet"
   ]
  },
  {
   "cell_type": "code",
   "execution_count": 25,
   "id": "f394612d-0d22-4c2c-ae71-d56a8071344b",
   "metadata": {},
   "outputs": [
    {
     "name": "stdout",
     "output_type": "stream",
     "text": [
      "Max has been adopted!\n"
     ]
    }
   ],
   "source": [
    "print(pet1.adopt_pet())"
   ]
  },
  {
   "cell_type": "code",
   "execution_count": 26,
   "id": "8d5f7249-0b14-4ec8-a49a-93c9d7b0bb87",
   "metadata": {},
   "outputs": [
    {
     "name": "stdout",
     "output_type": "stream",
     "text": [
      "Max is already adopted.\n"
     ]
    }
   ],
   "source": [
    "print(pet1.adopt_pet())  # Try adopting again"
   ]
  },
  {
   "cell_type": "code",
   "execution_count": 27,
   "id": "107bccd3-0052-46dc-a841-aed8ebc1c79a",
   "metadata": {},
   "outputs": [
    {
     "name": "stdout",
     "output_type": "stream",
     "text": [
      "Available Pets:\n",
      "Pet: Max, Species: Dog, Status: Adopted\n",
      "Pet: Luna, Species: Cat, Status: Available\n",
      "\n"
     ]
    }
   ],
   "source": [
    "print(center.display_pets())"
   ]
  },
  {
   "cell_type": "code",
   "execution_count": null,
   "id": "b8a680b8-4497-4687-ba17-e7cdf29efe10",
   "metadata": {},
   "outputs": [],
   "source": []
  }
 ],
 "metadata": {
  "kernelspec": {
   "display_name": "Python 3 (ipykernel)",
   "language": "python",
   "name": "python3"
  },
  "language_info": {
   "codemirror_mode": {
    "name": "ipython",
    "version": 3
   },
   "file_extension": ".py",
   "mimetype": "text/x-python",
   "name": "python",
   "nbconvert_exporter": "python",
   "pygments_lexer": "ipython3",
   "version": "3.12.4"
  }
 },
 "nbformat": 4,
 "nbformat_minor": 5
}
