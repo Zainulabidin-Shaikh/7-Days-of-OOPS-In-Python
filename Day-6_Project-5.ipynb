{
 "cells": [
  {
   "cell_type": "markdown",
   "id": "32c92fad-a38f-4422-8086-d738113e644e",
   "metadata": {},
   "source": [
    "\n",
    "## 👩‍💼 Project 1: Employee Management System\r\n",
    "\r\n",
    "### 📝 Description\r\n",
    "Build an **Employee Management System** that organizes and tracks different types of employees in a company. This project focuses on **object-oriented programming** concepts like **inheritance**, **polymorphism**, **encapsulation**, and **abstraction**.\r\n",
    "\r\n",
    "---\r\n",
    "\r\n",
    "### 🔧 Features\r\n",
    "\r\n",
    "- **Common Attributes (in `Employee` base class):**\r\n",
    "  - `employee_id`: Unique identifier.\r\n",
    "  - `name`: Employee’s full name.\r\n",
    "  - `salary`: Base salary.\r\n",
    "\r\n",
    "- **Common Methods:**\r\n",
    "  - `__init__(...)` → Initialize employee details.\r\n",
    "  - `calculate_bonus()` → Compute bonus (default: 10% of salary).\r\n",
    "  - `display_details()` → Print employee details.\r\n",
    "  - `__str__()` → Nicely formatted string output of employee data.\r\n",
    "\r\n",
    "---\r\n",
    "\r\n",
    "### 🏗️ Class Hierarchy\r\n",
    "\r\n",
    "- **`Employee`** *(Base Class)*:\r\n",
    "  - Defines shared attributes and methods.\r\n",
    "\r\n",
    "- **`FullTimeEmployee`** *(Inherits from `Employee`)*:\r\n",
    "  - Overrides `calculate_bonus()` → Returns 15% of salary.\r\n",
    "\r\n",
    "- **`PartTimeEmployee`** *(Inherits from `Employee`)*:\r\n",
    "  - Overrides `calculate_bonus()` → Returns 5% of salary.\r\n",
    "\r\n",
    "- **🎁 Bonus: `Manager` Class**\r\n",
    "  - Inherits from `FullTimeEmployee`.\r\n",
    "  - Additional attribute: `department`.\r\n",
    "  - Additional method: `assign_team(employees_list)` → Assigns employees to the manager’s team.\r\n",
    "\r\n",
    "---\r\n",
    "\r\n",
    "### ✅ Learning Outcomes\r\n",
    "\r\n",
    "- ✅ **Inheritance**: Build a hierarchy of employee types.\r\n",
    "- ✅ **Polymorphism**: Override behavior like `calculate_bonus()` in derived classes.\r\n",
    "- ✅ **Encapsulation**: Protect and manage employee data within classes.\r\n",
    "- ✅ **Abstraction**: Use a shared interface for all employee types via the base class.\r\n",
    "\r\n",
    "---\r\n",
    "\r\n",
    "### 🧪 Example Usage\r\n",
    "```python\r\n",
    "e1 = FullTimeEmployee(\"FT123\", \"Alice\", 60000)\r\n",
    "e2 = PartTimeEmployee(\"PT456\", \"Bob\", 20000)\r\n",
    "m1 = Manager(\"M789\", \"Clara\", 80000, \"Engineering\")\r\n",
    "\r\n",
    "print(e1.calculate_bonus())  # Output: 9000.0\r\n",
    "print(e2.calculate_bonus())  # Output: 1000.0\r\n",
    "m1.assign_team([e1, e2])\r\n",
    "m1.display_details()\r\n"
   ]
  },
  {
   "cell_type": "code",
   "execution_count": 67,
   "id": "cbcec635-3921-4331-bd3a-b6dfd2c7140e",
   "metadata": {},
   "outputs": [],
   "source": [
    "class Employee:\n",
    "    def __init__(self, employee_id, name, salary):\n",
    "        \"\"\"\n",
    "        Initialize an employee with ID, name, and salary.\n",
    "\n",
    "        Args:\n",
    "            employee_id (str): Unique identifier for the employee.\n",
    "            name (str): Employee's name.\n",
    "            salary (float): Employee's base salary.\n",
    "        \"\"\"\n",
    "   \n",
    "        if not isinstance(employee_id, str) or not employee_id:\n",
    "            raise ValueError(\"Employee ID must be a non-empty string.\")\n",
    "        if not isinstance(name, str) or not name.strip():\n",
    "            raise ValueError(\"Name must be a non-empty string.\")\n",
    "        if not isinstance(salary, (int, float)) or salary < 0:\n",
    "            raise ValueError(\"Salary must be a non-negative number.\")\n",
    "        \n",
    "        self._employee_id = employee_id\n",
    "        self._name = name\n",
    "        self._salary = float(salary)\n",
    "\n",
    "    def calculate_bonus(self):\n",
    "        \"\"\"\n",
    "        Calculate a default bonus (10% of salary).\n",
    "\n",
    "        Returns:\n",
    "            float: The bonus amount.\n",
    "        \"\"\"\n",
    "        \n",
    "        return self._salary * 0.10\n",
    "\n",
    "    def display_details(self):\n",
    "        \"\"\"\n",
    "        Display employee details including ID, name, salary, and bonus.\n",
    "        \"\"\"\n",
    "\n",
    "        bonus = self.calculate_bonus()\n",
    "        print(f\"Employee ID: {self._employee_id}\")\n",
    "        print(f\"Name: {self._name}\")\n",
    "        print(f\"Salary: ${self._salary:.2f}\")\n",
    "        print(f\"Bonus: ${bonus:.2f}\")\n",
    "\n",
    "\n",
    "    def __str__(self):\n",
    "        \"\"\"\n",
    "        Return a string representation of the employee.\n",
    "        \"\"\"\n",
    "        return f\"Employee({self._employee_id}, {self._name}, Salary: ${self._salary:.2f})\""
   ]
  },
  {
   "cell_type": "code",
   "execution_count": 68,
   "id": "ca2f870b-75b6-425a-be20-ea15b8d3cb57",
   "metadata": {},
   "outputs": [],
   "source": [
    "e1 = Employee(\"0001\",\"Zain\",10000)"
   ]
  },
  {
   "cell_type": "code",
   "execution_count": 69,
   "id": "856500ab-06dc-43c8-8800-dff18dd5bc8c",
   "metadata": {},
   "outputs": [
    {
     "data": {
      "text/plain": [
       "1000.0"
      ]
     },
     "execution_count": 69,
     "metadata": {},
     "output_type": "execute_result"
    }
   ],
   "source": [
    "e1.calculate_bonus()"
   ]
  },
  {
   "cell_type": "code",
   "execution_count": 70,
   "id": "4484c65d-f93d-47f3-b0e8-9b738491c733",
   "metadata": {},
   "outputs": [
    {
     "name": "stdout",
     "output_type": "stream",
     "text": [
      "Employee ID: 0001\n",
      "Name: Zain\n",
      "Salary: $10000.00\n",
      "Bonus: $1000.00\n"
     ]
    }
   ],
   "source": [
    "e1.display_details()"
   ]
  },
  {
   "cell_type": "code",
   "execution_count": 72,
   "id": "84b8808b-8a3f-4b03-8ef9-debbe65de281",
   "metadata": {},
   "outputs": [
    {
     "name": "stdout",
     "output_type": "stream",
     "text": [
      "Employee(0001, Zain, Salary: $10000.00)\n"
     ]
    }
   ],
   "source": [
    "print(e1)"
   ]
  },
  {
   "cell_type": "code",
   "execution_count": 74,
   "id": "942294f9-07ec-49ba-8648-ef7bf3824eb9",
   "metadata": {},
   "outputs": [],
   "source": [
    "class FullTimeEmployee(Employee):\n",
    "    def __init__(self, employee_id, name, salary):\n",
    "        \"\"\"\n",
    "        Initialize a full-time employee.\n",
    "\n",
    "        Args:\n",
    "            employee_id (str): Unique identifier.\n",
    "            name (str): Employee's name.\n",
    "            salary (float): Base salary.\n",
    "        \"\"\"\n",
    "\n",
    "        super().__init__(employee_id, name, salary)\n",
    "\n",
    "\n",
    "    def calculate_bonus(self):\n",
    "        \"\"\"\n",
    "        Calculate a 15% bonus for full-time employees.\n",
    "\n",
    "        Returns:\n",
    "            float: The bonus amount.\n",
    "        \"\"\"\n",
    "        \n",
    "        return self._salary * 0.15"
   ]
  },
  {
   "cell_type": "code",
   "execution_count": 75,
   "id": "f6403291-1cf1-4714-985a-3682c04ef713",
   "metadata": {},
   "outputs": [],
   "source": [
    "\n",
    "class PartTimeEmployee(Employee):\n",
    "    def __init__(self, employee_id, name, salary):\n",
    "        \"\"\"\n",
    "        Initialize a part-time employee.\n",
    "\n",
    "        Args:\n",
    "            employee_id (str): Unique identifier.\n",
    "            name (str): Employee's name.\n",
    "            salary (float): Base salary.\n",
    "        \"\"\"\n",
    "       \n",
    "        super().__init__(employee_id, name, salary)\n",
    "\n",
    "\n",
    "    def calculate_bonus(self):\n",
    "        \"\"\"\n",
    "        Calculate a 5% bonus for part-time employees.\n",
    "\n",
    "        Returns:\n",
    "            float: The bonus amount.\n",
    "        \"\"\"\n",
    "        \n",
    "        return self._salary * 0.05"
   ]
  },
  {
   "cell_type": "code",
   "execution_count": 76,
   "id": "6b32ccc7-ff1c-46b5-bf9b-13d1e9c7c832",
   "metadata": {},
   "outputs": [],
   "source": [
    "class Manager(FullTimeEmployee):\n",
    "    def __init__(self, employee_id, name, salary, department):\n",
    "        \"\"\"\n",
    "        Initialize a manager with a department.\n",
    "\n",
    "        Args:\n",
    "            employee_id (str): Unique identifier.\n",
    "            name (str): Employee's name.\n",
    "            salary (float): Base salary.\n",
    "            department (str): Manager's department.\n",
    "        \"\"\"\n",
    "      \n",
    "        super().__init__(employee_id, name, salary)\n",
    "       \n",
    "        if not isinstance(department, str) or not department.strip():\n",
    "            raise ValueError(\"Department must be a non-empty string.\")\n",
    "        self._department = department\n",
    "        self._team = []\n",
    "\n",
    "    def assign_employee(self, employee):\n",
    "        \"\"\"\n",
    "        Assign an employee to the manager's team.\n",
    "\n",
    "        Args:\n",
    "            employee (Employee): The employee to assign.\n",
    "\n",
    "        Raises:\n",
    "            TypeError: If the argument is not an Employee instance.\n",
    "        \"\"\"\n",
    "        \n",
    "        if not isinstance(employee, Employee):\n",
    "            raise TypeError(\"Can only assign Employee instances to the team.\")\n",
    "        self._team.append(employee)\n",
    "        print(f\"{employee._name} assigned to {self._department} under {self._name}\")\n",
    "\n",
    "    def display_details(self):\n",
    "        \"\"\"\n",
    "        Display manager details, including department and team members.\n",
    "        \"\"\"\n",
    "      \n",
    "        super().display_details()\n",
    "        print(f\"Department: {self._department}\")\n",
    "        print(\"Team Members:\")\n",
    "        if self._team:\n",
    "            for emp in self._team:\n",
    "                print(f\" - {emp._name} (ID: {emp._employee_id})\")\n",
    "        else:\n",
    "            print(\" - No team members assigned.\")"
   ]
  },
  {
   "cell_type": "code",
   "execution_count": 77,
   "id": "09b12982-ad29-4ab3-830c-d586a8bd7d9a",
   "metadata": {},
   "outputs": [],
   "source": [
    "emp1 = Employee(\"E001\", \"Alice\", 50000)\n",
    "ft_emp1 = FullTimeEmployee(\"FT001\", \"Bob\", 60000)\n",
    "pt_emp1 = PartTimeEmployee(\"PT001\", \"Charlie\", 30000)\n",
    "mgr1 = Manager(\"M001\", \"David\", 80000, \"Engineering\")\n"
   ]
  },
  {
   "cell_type": "code",
   "execution_count": 83,
   "id": "24e2aa2f-cccb-4cd4-8b45-db77ea179c54",
   "metadata": {},
   "outputs": [
    {
     "name": "stdout",
     "output_type": "stream",
     "text": [
      "=== Testing Employee ===\n",
      "\n",
      "Employee(E001, Alice, Salary: $50000.00)\n",
      "Employee ID: E001\n",
      "Name: Alice\n",
      "Salary: $50000.00\n",
      "Bonus: $5000.00\n",
      "\n"
     ]
    }
   ],
   "source": [
    "print(\"=== Testing Employee ===\\n\")\n",
    "print(emp1)\n",
    "emp1.display_details()"
   ]
  },
  {
   "cell_type": "code",
   "execution_count": 84,
   "id": "197dddcb-556e-4a19-8d12-8ab58d0724c7",
   "metadata": {},
   "outputs": [
    {
     "name": "stdout",
     "output_type": "stream",
     "text": [
      "=== Testing FullTimeEmployee ===\n",
      "\n",
      "Employee(FT001, Bob, Salary: $60000.00)\n",
      "Employee ID: FT001\n",
      "Name: Bob\n",
      "Salary: $60000.00\n",
      "Bonus: $9000.00\n",
      "\n"
     ]
    }
   ],
   "source": [
    "print(\"=== Testing FullTimeEmployee ===\\n\")\n",
    "print(ft_emp1)\n",
    "ft_emp1.display_details()"
   ]
  },
  {
   "cell_type": "code",
   "execution_count": 85,
   "id": "7b46d71f-aa9d-45f6-bd2f-62538c93c964",
   "metadata": {},
   "outputs": [
    {
     "name": "stdout",
     "output_type": "stream",
     "text": [
      "=== Testing PartTimeEmployee ===\n",
      "\n",
      "Employee(PT001, Charlie, Salary: $30000.00)\n",
      "Employee ID: PT001\n",
      "Name: Charlie\n",
      "Salary: $30000.00\n",
      "Bonus: $1500.00\n",
      "\n"
     ]
    }
   ],
   "source": [
    "print(\"=== Testing PartTimeEmployee ===\\n\")\n",
    "print(pt_emp1)\n",
    "pt_emp1.display_details()"
   ]
  },
  {
   "cell_type": "code",
   "execution_count": 86,
   "id": "d056b086-83a0-4f1e-aea1-748959b224bf",
   "metadata": {},
   "outputs": [
    {
     "name": "stdout",
     "output_type": "stream",
     "text": [
      "=== Testing Manager ===\n",
      "\n",
      "Employee(M001, David, Salary: $80000.00)\n",
      "Alice assigned to Engineering under David\n",
      "Bob assigned to Engineering under David\n",
      "Charlie assigned to Engineering under David\n",
      "Employee ID: M001\n",
      "Name: David\n",
      "Salary: $80000.00\n",
      "Bonus: $12000.00\n",
      "Department: Engineering\n",
      "Team Members:\n",
      " - Alice (ID: E001)\n",
      " - Bob (ID: FT001)\n",
      " - Charlie (ID: PT001)\n",
      " - Alice (ID: E001)\n",
      " - Bob (ID: FT001)\n",
      " - Charlie (ID: PT001)\n"
     ]
    }
   ],
   "source": [
    "print(\"=== Testing Manager ===\\n\")\n",
    "print(mgr1)\n",
    "mgr1.assign_employee(emp1)\n",
    "mgr1.assign_employee(ft_emp1)\n",
    "mgr1.assign_employee(pt_emp1)\n",
    "mgr1.display_details()"
   ]
  },
  {
   "cell_type": "code",
   "execution_count": null,
   "id": "cae173b1-fc70-4aff-ab60-814f2112a989",
   "metadata": {},
   "outputs": [],
   "source": []
  }
 ],
 "metadata": {
  "kernelspec": {
   "display_name": "Python 3 (ipykernel)",
   "language": "python",
   "name": "python3"
  },
  "language_info": {
   "codemirror_mode": {
    "name": "ipython",
    "version": 3
   },
   "file_extension": ".py",
   "mimetype": "text/x-python",
   "name": "python",
   "nbconvert_exporter": "python",
   "pygments_lexer": "ipython3",
   "version": "3.12.4"
  }
 },
 "nbformat": 4,
 "nbformat_minor": 5
}
