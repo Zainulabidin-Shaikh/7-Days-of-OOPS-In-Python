{
 "cells": [
  {
   "cell_type": "code",
   "execution_count": 6,
   "id": "ba2b6b10-4eb8-4bfb-8381-f10a2731fddc",
   "metadata": {},
   "outputs": [],
   "source": [
    "class Student():\n",
    "    def __init__(self): # we know that here in self we are getting s1 (object)\n",
    "        name = \"Zain\"   # So, when we are adding a name of the student it should be related to the student right?"
   ]
  },
  {
   "cell_type": "code",
   "execution_count": 7,
   "id": "38a7a72d-3a55-4461-882f-ef2fbdb30801",
   "metadata": {},
   "outputs": [],
   "source": [
    "s1 = Student() # creating an object"
   ]
  },
  {
   "cell_type": "code",
   "execution_count": 8,
   "id": "a046ce0a-7ee4-4dbd-838e-f5dee7e6aaed",
   "metadata": {},
   "outputs": [
    {
     "ename": "AttributeError",
     "evalue": "'Student' object has no attribute 'name'",
     "output_type": "error",
     "traceback": [
      "\u001b[1;31m---------------------------------------------------------------------------\u001b[0m",
      "\u001b[1;31mAttributeError\u001b[0m                            Traceback (most recent call last)",
      "Cell \u001b[1;32mIn[8], line 1\u001b[0m\n\u001b[1;32m----> 1\u001b[0m s1\u001b[38;5;241m.\u001b[39mname\n",
      "\u001b[1;31mAttributeError\u001b[0m: 'Student' object has no attribute 'name'"
     ]
    }
   ],
   "source": [
    "s1.name # we are getting error because name is not a behaviour of s1 "
   ]
  },
  {
   "cell_type": "code",
   "execution_count": 9,
   "id": "a0606883-5390-4fcd-a3ba-e4aaad6cd409",
   "metadata": {},
   "outputs": [],
   "source": [
    "# to relate it to the s1 we have to make it with self or you can say relate to self.\n",
    "# self.name = \"zain\"\n",
    "class Student():\n",
    "    def __init__(self):\n",
    "        self.name = \"Zain\""
   ]
  },
  {
   "cell_type": "code",
   "execution_count": 10,
   "id": "3415f75a-1eb1-40cf-84bd-a86311f7dfbf",
   "metadata": {},
   "outputs": [],
   "source": [
    "s1 = Student()"
   ]
  },
  {
   "cell_type": "code",
   "execution_count": 11,
   "id": "2a279c1f-3f5c-4dae-8b2a-540a960bee7b",
   "metadata": {},
   "outputs": [
    {
     "data": {
      "text/plain": [
       "'Zain'"
      ]
     },
     "execution_count": 11,
     "metadata": {},
     "output_type": "execute_result"
    }
   ],
   "source": [
    "s1.name"
   ]
  },
  {
   "cell_type": "code",
   "execution_count": 13,
   "id": "464de0e4-0355-49ce-a7b4-24023e4c2aa2",
   "metadata": {},
   "outputs": [],
   "source": [
    "class Student():\n",
    "    def __init__(self):\n",
    "        self.name = \"Zain\"\n",
    "        self.rollnumber = 1 \n",
    "        self.marks = 100\n",
    "        "
   ]
  },
  {
   "cell_type": "code",
   "execution_count": 14,
   "id": "b30001d1-2ba5-45d4-b7bf-39b9fb312846",
   "metadata": {},
   "outputs": [],
   "source": [
    "s1 = Student()"
   ]
  },
  {
   "cell_type": "markdown",
   "id": "a44a8971-f974-4e30-a5ae-434256f3703a",
   "metadata": {},
   "source": [
    "Hit the tab after s1. and we can see the instances we have made in our class"
   ]
  },
  {
   "attachments": {
    "314aa619-ce85-4d6a-a4a2-1c23b1544374.png": {
     "image/png": "[encoded data removed]"
    }
   },
   "cell_type": "markdown",
   "id": "b0b8b006-a069-4f84-af42-57e2cc78b2a2",
   "metadata": {},
   "source": [
    "![image.png](attachment:314aa619-ce85-4d6a-a4a2-1c23b1544374.png)"
   ]
  },
  {
   "cell_type": "code",
   "execution_count": 16,
   "id": "a08d1ec4-6737-4c70-8138-9ecdb08f8110",
   "metadata": {},
   "outputs": [
    {
     "data": {
      "text/plain": [
       "('Zain', 1, 100)"
      ]
     },
     "execution_count": 16,
     "metadata": {},
     "output_type": "execute_result"
    }
   ],
   "source": [
    "s1.name,s1.rollnumber,s1.marks"
   ]
  },
  {
   "cell_type": "markdown",
   "id": "12c7d4e8-f64b-4fab-824f-fe0b4c397dc4",
   "metadata": {},
   "source": [
    "This is how we create variables and data in a class"
   ]
  },
  {
   "cell_type": "markdown",
   "id": "7359c981-5bfc-485f-ab91-e23b2d657fc4",
   "metadata": {},
   "source": [
    "#### But here we are giving the date manually in the class itself now we want to take the data from the user here how it is :"
   ]
  },
  {
   "cell_type": "code",
   "execution_count": 17,
   "id": "67affb62-a239-4012-bf9b-19a99fb8ae5f",
   "metadata": {},
   "outputs": [],
   "source": [
    "class Student():\n",
    "    def __init__(self,name,rollnumber,marks):  # getting the values as a argument in the constructor \n",
    "        self.name = \"Zain\"\n",
    "        self.rollnumber = 1 \n",
    "        self.marks = 100"
   ]
  },
  {
   "cell_type": "code",
   "execution_count": 18,
   "id": "ed2c33f9-67f7-4ee3-89ea-181ec5de3dce",
   "metadata": {},
   "outputs": [
    {
     "ename": "TypeError",
     "evalue": "Student.__init__() missing 3 required positional arguments: 'name', 'rollnumber', and 'marks'",
     "output_type": "error",
     "traceback": [
      "\u001b[1;31m---------------------------------------------------------------------------\u001b[0m",
      "\u001b[1;31mTypeError\u001b[0m                                 Traceback (most recent call last)",
      "Cell \u001b[1;32mIn[18], line 1\u001b[0m\n\u001b[1;32m----> 1\u001b[0m s1 \u001b[38;5;241m=\u001b[39m Student()\n",
      "\u001b[1;31mTypeError\u001b[0m: Student.__init__() missing 3 required positional arguments: 'name', 'rollnumber', and 'marks'"
     ]
    }
   ],
   "source": [
    "s1 = Student()"
   ]
  },
  {
   "cell_type": "markdown",
   "id": "10e3c44c-29e6-407c-a1da-815a6b1c316c",
   "metadata": {},
   "source": [
    "Here the error is causing because we have to pass the values while making an object so that the constructor could collect it as a argument "
   ]
  },
  {
   "cell_type": "code",
   "execution_count": 19,
   "id": "a633df00-e8a7-42bb-85b7-6b32489a8ccb",
   "metadata": {},
   "outputs": [],
   "source": [
    " s1 = Student(\"Zain\",1,100)"
   ]
  },
  {
   "cell_type": "markdown",
   "id": "f0451dc3-e3c1-4217-ae45-bebea51b80d0",
   "metadata": {},
   "source": [
    "now to access it we will not write s1.name its like doing all these for ease but at the end we are just able to get only single name not multiple."
   ]
  },
  {
   "cell_type": "markdown",
   "id": "f0f8c8d8-066c-4e54-9605-fbf5e068e811",
   "metadata": {},
   "source": [
    "we will do a change in our class : "
   ]
  },
  {
   "cell_type": "code",
   "execution_count": 22,
   "id": "8c36cecc-73c6-4d68-bcba-ede69bbb94bf",
   "metadata": {},
   "outputs": [],
   "source": [
    "class Student():\n",
    "    def __init__(self,name,rollnumber,marks): \n",
    "        self.name = name \n",
    "        self.rollnumber = rollnumber\n",
    "        self.marks = marks "
   ]
  },
  {
   "cell_type": "code",
   "execution_count": 26,
   "id": "eced2b02-8659-4890-a12c-734f27de237d",
   "metadata": {},
   "outputs": [],
   "source": [
    "s1 = Student(\"Zain\",1,100)"
   ]
  },
  {
   "cell_type": "code",
   "execution_count": 27,
   "id": "8f870446-afd0-4fc9-b63a-9993fa782e8f",
   "metadata": {},
   "outputs": [],
   "source": [
    "s2 = Student(\"Bob\",2,90)"
   ]
  },
  {
   "cell_type": "code",
   "execution_count": 28,
   "id": "2faa0ac7-c5bf-42c0-b7cb-eab94db9b438",
   "metadata": {},
   "outputs": [],
   "source": [
    "s3 = Student(\"John\",3,80)"
   ]
  },
  {
   "cell_type": "markdown",
   "id": "d4d15f4e-cc45-416b-b2d1-93c09680844f",
   "metadata": {},
   "source": [
    "now we can make as much objects as we want"
   ]
  },
  {
   "cell_type": "code",
   "execution_count": 29,
   "id": "0329cde0-40ba-4fe0-83c0-43aa2cb1dbb7",
   "metadata": {},
   "outputs": [
    {
     "data": {
      "text/plain": [
       "('Zain', 1, 100)"
      ]
     },
     "execution_count": 29,
     "metadata": {},
     "output_type": "execute_result"
    }
   ],
   "source": [
    "s1.name,s1.rollnumber,s1.marks"
   ]
  },
  {
   "cell_type": "code",
   "execution_count": 30,
   "id": "90bc5edd-4646-47fb-afee-2f0538304eed",
   "metadata": {},
   "outputs": [
    {
     "data": {
      "text/plain": [
       "('Bob', 2, 90)"
      ]
     },
     "execution_count": 30,
     "metadata": {},
     "output_type": "execute_result"
    }
   ],
   "source": [
    "s2.name,s2.rollnumber,s2.marks"
   ]
  },
  {
   "cell_type": "code",
   "execution_count": 31,
   "id": "110ebda0-07fb-4f90-bad7-11388650d21d",
   "metadata": {},
   "outputs": [
    {
     "data": {
      "text/plain": [
       "('John', 3, 80)"
      ]
     },
     "execution_count": 31,
     "metadata": {},
     "output_type": "execute_result"
    }
   ],
   "source": [
    "s3.name,s3.rollnumber,s3.marks"
   ]
  },
  {
   "cell_type": "markdown",
   "id": "ab42c920-b76a-45e3-9c64-3e61a2f30eff",
   "metadata": {},
   "source": [
    "Creating Methods "
   ]
  },
  {
   "cell_type": "code",
   "execution_count": 48,
   "id": "75b14f90-40ba-4c1c-a3ec-c2ce32abc2e2",
   "metadata": {},
   "outputs": [],
   "source": [
    "class Student():\n",
    "    def __init__(self,name,rollnumber,marks): \n",
    "        self.name = name \n",
    "        self.rollnumber = rollnumber\n",
    "        self.marks = marks \n",
    "    def study(self):\n",
    "        print(\"I am \" + self.name + \" and I am Studying!\")\n",
    "    def play(self):\n",
    "        print(\"I am Playing!\")"
   ]
  },
  {
   "cell_type": "code",
   "execution_count": 49,
   "id": "fb7ac0e1-e8bd-4b72-a2d7-689bb8ad7afe",
   "metadata": {},
   "outputs": [],
   "source": [
    "s1 = Student(\"Zain\",1,100)"
   ]
  },
  {
   "cell_type": "code",
   "execution_count": 50,
   "id": "e82e3989-ca45-43b9-8a32-f02710ea4547",
   "metadata": {},
   "outputs": [
    {
     "name": "stdout",
     "output_type": "stream",
     "text": [
      "I am Zain and I am Studying!\n"
     ]
    }
   ],
   "source": [
    "s1.study()"
   ]
  },
  {
   "attachments": {
    "faa1eaea-f9b9-487c-8eb9-43dad0505f63.png": {
     "image/png": "[encoded data removed]"
    }
   },
   "cell_type": "markdown",
   "id": "997c8436-b439-48d9-8dfb-ae9489f1f0d6",
   "metadata": {},
   "source": [
    "![image.png](attachment:faa1eaea-f9b9-487c-8eb9-43dad0505f63.png)"
   ]
  },
  {
   "cell_type": "markdown",
   "id": "3900a1fe-e091-46d7-8c79-0634a91e9a9e",
   "metadata": {},
   "source": [
    "see the difference between the instances and the funtion,\n",
    "methods we made in the class are the functions and the objects are the instances "
   ]
  },
  {
   "cell_type": "markdown",
   "id": "c9c3fd78-e652-40c9-8420-0f8a001f07df",
   "metadata": {},
   "source": [
    "# Question 1: Class for Complex Numbers\n",
    "\n",
    "Create a Python class named 'ComplexNumber' to represent complex numbers.\n",
    "Theory:\n",
    "\n",
    "A complex number is a number that comprises a real part and an imaginary part.\n",
    "It is typically written in the form a + bi, where 'a' is the real part,\n",
    "and 'b' is the imaginary part, and 'i' is the imaginary unit (v-1).\n",
    "\n",
    "Operations:\n",
    "1. Addition (+)\n",
    "2. Subtraction (-)\n",
    "3. Multiplication (*)\n",
    "4. Division (/)\n",
    "5. Comparison ( == , != )\n"
   ]
  },
  {
   "cell_type": "code",
   "execution_count": 52,
   "id": "fe262597-a0db-4a82-bc44-b09238897800",
   "metadata": {},
   "outputs": [],
   "source": [
    "class ComplexNumber:\n",
    "    def __init__(self,real=0.0,imag=0.0):\n",
    "        self.imag = imag\n",
    "        self.real = real\n",
    "\n",
    "    def __str__(self): # magic method\n",
    "        if(self.real==0):\n",
    "            return f\"{self.imag}i\"\n",
    "        elif(self.imag<0):\n",
    "            s = f\"{self.real}{self.imag}i\"\n",
    "        else:\n",
    "            s = f\"{self.real}+{self.imag}i\"\n",
    "        return s\n",
    "\n",
    "\n",
    "    def __add__(self,other):\n",
    "        resultReal =0\n",
    "        resultImag = 0\n",
    "        \n",
    "        resultReal = self.real + other.real\n",
    "        resultImag = self.imag + other.imag\n",
    "        ans = ComplexNumber(resultReal,resultImag)\n",
    "\n",
    "        return ans\n",
    "\n",
    "    def __sub__(self,other):\n",
    "        # print(\"I am here\")\n",
    "        resultReal =0\n",
    "        resultImag = 0\n",
    "        \n",
    "        resultReal = self.real - other.real\n",
    "        resultImag = self.imag - other.imag\n",
    "        ans = ComplexNumber(resultReal,resultImag)\n",
    "    \n",
    "        return ans\n",
    "\n",
    "    def __mul__(self,other):\n",
    "        resultReal =0\n",
    "        resultImag = 0\n",
    "        \n",
    "        resultReal = self.real * other.real - self.imag * other.imag\n",
    "        resultImag = self.real * other.imag + other.real * self.imag\n",
    "        ans = ComplexNumber(resultReal,resultImag)\n",
    "    \n",
    "        return ans\n",
    "\n",
    "    def __truediv__(self,other):\n",
    "        resultReal =0\n",
    "        resultImag = 0\n",
    "        den = other.real**2 + other.imag**2\n",
    "        ans = self * ComplexNumber(other.real/den,(-1*other.imag)/den)\n",
    "        return ans\n",
    "    \n",
    "    def conjugate(self):\n",
    "        return ComplexNumber(self.real,-1*self.imag)\n",
    "\n",
    "    def __eq__(self,other):\n",
    "        return (self.real == other.real) and (self.imag == other.imag)"
   ]
  },
  {
   "cell_type": "code",
   "execution_count": 2,
   "id": "0f5feafe-22cd-4d67-aadb-d5bbf4cdcb57",
   "metadata": {},
   "outputs": [],
   "source": [
    "# ComplexNumber class to represent and manipulate complex numbers\n",
    "class ComplexNumber:\n",
    "    # Initialize a complex number with real and imaginary parts (default to 0.0)\n",
    "    def __init__(self, real=0.0, imag=0.0):\n",
    "        self.real = real  # Real part of the complex number\n",
    "        self.imag = imag  # Imaginary part of the complex number\n",
    "\n",
    "    # Return a string representation of the complex number (e.g., \"3+4i\", \"2\", \"-5i\")\n",
    "    def __str__(self):\n",
    "        if self.real == 0 and self.imag == 0:\n",
    "            return \"0\"  # Handle case where both parts are zero\n",
    "        if self.real == 0:\n",
    "            return f\"{self.imag}i\"  # Purely imaginary (e.g., \"5i\" or \"-2i\")\n",
    "        if self.imag == 0:\n",
    "            return f\"{self.real}\"  # Purely real (e.g., \"2\" or \"-3\")\n",
    "        if self.imag < 0:\n",
    "            return f\"{self.real}{self.imag}i\"  # Negative imaginary (e.g., \"3-4i\")\n",
    "        return f\"{self.real}+{self.imag}i\"  # General case (e.g., \"3+4i\")\n",
    "\n",
    "    # Add two complex numbers: (a + bi) + (c + di) = (a + c) + (b + d)i\n",
    "    def __add__(self, other):\n",
    "        resultReal = self.real + other.real  # Sum of real parts\n",
    "        resultImag = self.imag + other.imag  # Sum of imaginary parts\n",
    "        return ComplexNumber(resultReal, resultImag)  # Return new ComplexNumber\n",
    "\n",
    "    # Subtract two complex numbers: (a + bi) - (c + di) = (a - c) + (b - d)i\n",
    "    def __sub__(self, other):\n",
    "        resultReal = self.real - other.real  # Difference of real parts\n",
    "        resultImag = self.imag - other.imag  # Difference of imaginary parts\n",
    "        return ComplexNumber(resultReal, resultImag)  # Return new ComplexNumber\n",
    "\n",
    "    # Multiply two complex numbers: (a + bi)(c + di) = (ac - bd) + (ad + bc)i\n",
    "    def __mul__(self, other):\n",
    "        resultReal = self.real * other.real - self.imag * other.imag  # Real part\n",
    "        resultImag = self.real * other.imag + other.real * self.imag  # Imaginary part\n",
    "        return ComplexNumber(resultReal, resultImag)  # Return new ComplexNumber\n",
    "\n",
    "    # Divide two complex numbers: (a + bi)/(c + di) = ((a + bi)(c - di))/(c^2 + d^2)\n",
    "    def __truediv__(self, other):\n",
    "        den = other.real**2 + other.imag**2  # Denominator: c^2 + d^2\n",
    "        if den == 0:\n",
    "            raise ZeroDivisionError(\"Division by zero is not allowed\")  # Handle zero denominator\n",
    "        # Multiply numerator by conjugate of denominator\n",
    "        ans = self * ComplexNumber(other.real/den, (-1*other.imag)/den)\n",
    "        return ans  # Return result\n",
    "\n",
    "    # Return the complex conjugate: conjugate of a + bi is a - bi\n",
    "    def conjugate(self):\n",
    "        return ComplexNumber(self.real, -1*self.imag)  # Flip sign of imaginary part\n",
    "\n",
    "    # Check if two complex numbers are equal: same real and imaginary parts\n",
    "    def __eq__(self, other):\n",
    "        return (self.real == other.real) and (self.imag == other.imag)  # True if both parts match\n",
    "\n"
   ]
  },
  {
   "cell_type": "code",
   "execution_count": 4,
   "id": "519e062b-3b54-4a9f-9781-4c0ae3971ba6",
   "metadata": {},
   "outputs": [
    {
     "name": "stdout",
     "output_type": "stream",
     "text": [
      "Testing __init__ and __str__:\n",
      "c1 = 3+4i\n",
      "c2 = 1-2i\n",
      "c3 = 5i\n",
      "c4 = 2\n",
      "c6 = 0\n",
      "\n",
      "Testing __add__:\n",
      "3+4i + 1-2i = 4+2i\n",
      "5i + 2 = 2+5i\n",
      "\n",
      "Testing __sub__:\n",
      "3+4i - 1-2i = 2+6i\n",
      "5i - 2 = -2+5i\n",
      "\n",
      "Testing __mul__:\n",
      "3+4i * 1-2i = 11-2i\n",
      "5i * 2 = 10i\n",
      "\n",
      "Testing __truediv__:\n",
      "3+4i / 1-2i = -1.0+2.0i\n",
      "5i / 2 = 2.5i\n",
      "\n",
      "Testing conjugate:\n",
      "Conjugate of 3+4i = 3-4i\n",
      "Conjugate of 1-2i = 1+2i\n",
      "\n",
      "Testing __eq__:\n",
      "3+4i == 3+4i: True\n",
      "3+4i == 1-2i: False\n",
      "\n",
      "Testing division by zero:\n",
      "Success: Division by zero caught\n"
     ]
    }
   ],
   "source": [
    "# Test script to verify all ComplexNumber methods\n",
    "def test_complex_number():\n",
    "    # Create test cases\n",
    "    c1 = ComplexNumber(3, 4)    # 3 + 4i\n",
    "    c2 = ComplexNumber(1, -2)   # 1 - 2i\n",
    "    c3 = ComplexNumber(0, 5)    # 0 + 5i\n",
    "    c4 = ComplexNumber(2, 0)    # 2 + 0i\n",
    "    c5 = ComplexNumber(3, 4)    # 3 + 4i (same as c1 for equality test)\n",
    "    c6 = ComplexNumber(0, 0)    # 0 + 0i for edge case\n",
    "\n",
    "    # Test __init__ and __str__\n",
    "    print(\"Testing __init__ and __str__:\")\n",
    "    print(f\"c1 = {c1}\")  # Expected: 3+4i\n",
    "    print(f\"c2 = {c2}\")  # Expected: 1-2i\n",
    "    print(f\"c3 = {c3}\")  # Expected: 5i\n",
    "    print(f\"c4 = {c4}\")  # Expected: 2\n",
    "    print(f\"c6 = {c6}\")  # Expected: 0\n",
    "    print()\n",
    "\n",
    "    # Test __add__\n",
    "    print(\"Testing __add__:\")\n",
    "    result = c1 + c2  # (3 + 4i) + (1 - 2i) = 4 + 2i\n",
    "    print(f\"{c1} + {c2} = {result}\")  # Expected: 4+2i\n",
    "    result = c3 + c4  # (0 + 5i) + (2 + 0i) = 2 + 5i\n",
    "    print(f\"{c3} + {c4} = {result}\")  # Expected: 2+5i\n",
    "    print()\n",
    "\n",
    "    # Test __sub__\n",
    "    print(\"Testing __sub__:\")\n",
    "    result = c1 - c2  # (3 + 4i) - (1 - 2i) = 2 + 6i\n",
    "    print(f\"{c1} - {c2} = {result}\")  # Expected: 2+6i\n",
    "    result = c3 - c4  # (0 + 5i) - (2 + 0i) = -2 + 5i\n",
    "    print(f\"{c3} - {c4} = {result}\")  # Expected: -2+5i\n",
    "    print()\n",
    "\n",
    "    # Test __mul__\n",
    "    print(\"Testing __mul__:\")\n",
    "    result = c1 * c2  # (3 + 4i) * (1 - 2i) = 11 - 2i\n",
    "    print(f\"{c1} * {c2} = {result}\")  # Expected: 11-2i\n",
    "    result = c3 * c4  # (0 + 5i) * (2 + 0i) = 0 + 10i\n",
    "    print(f\"{c3} * {c4} = {result}\")  # Expected: 10i\n",
    "    print()\n",
    "\n",
    "    # Test __truediv__\n",
    "    print(\"Testing __truediv__:\")\n",
    "    result = c1 / c2  # (3 + 4i) / (1 - 2i) = -0.2 + 2.2i\n",
    "    print(f\"{c1} / {c2} = {result}\")  # Expected: -0.2+2.2i\n",
    "    result = c3 / c4  # (0 + 5i) / (2 + 0i) = 0 + 2.5i\n",
    "    print(f\"{c3} / {c4} = {result}\")  # Expected: 2.5i\n",
    "    print()\n",
    "\n",
    "    # Test conjugate\n",
    "    print(\"Testing conjugate:\")\n",
    "    result = c1.conjugate()  # Conjugate of 3 + 4i = 3 - 4i\n",
    "    print(f\"Conjugate of {c1} = {result}\")  # Expected: 3-4i\n",
    "    result = c2.conjugate()  # Conjugate of 1 - 2i = 1 + 2i\n",
    "    print(f\"Conjugate of {c2} = {result}\")  # Expected: 1+2i\n",
    "    print()\n",
    "\n",
    "    # Test __eq__\n",
    "    print(\"Testing __eq__:\")\n",
    "    print(f\"{c1} == {c5}: {c1 == c5}\")  # Expected: True\n",
    "    print(f\"{c1} == {c2}: {c1 == c2}\")  # Expected: False\n",
    "    print()\n",
    "\n",
    "    # Test division by zero\n",
    "    print(\"Testing division by zero:\")\n",
    "    try:\n",
    "        c1 / c6  # Attempt to divide by 0 + 0i\n",
    "        print(\"Error: Division by zero not caught\")\n",
    "    except ZeroDivisionError:\n",
    "        print(\"Success: Division by zero caught\")\n",
    "\n",
    "# Run the tests\n",
    "if __name__ == \"__main__\": # it ensures that if script is exucted then only call the test function\n",
    "    test_complex_number()"
   ]
  }
 ],
 "metadata": {
  "kernelspec": {
   "display_name": "Python 3 (ipykernel)",
   "language": "python",
   "name": "python3"
  },
  "language_info": {
   "codemirror_mode": {
    "name": "ipython",
    "version": 3
   },
   "file_extension": ".py",
   "mimetype": "text/x-python",
   "name": "python",
   "nbconvert_exporter": "python",
   "pygments_lexer": "ipython3",
   "version": "3.12.4"
  }
 },
 "nbformat": 4,
 "nbformat_minor": 5
}
