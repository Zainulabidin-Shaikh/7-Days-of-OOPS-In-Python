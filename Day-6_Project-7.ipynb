{
 "cells": [
  {
   "cell_type": "markdown",
   "id": "e37c4f37-ecde-468c-a19a-26a44c1d75c4",
   "metadata": {},
   "source": [
    "## 🎓 Project 3: Student Grading System\n",
    "\n",
    "### 📝 Description\n",
    "Design a **Student Grading System** to track and manage student grades across multiple courses. The system should calculate average grades and determine pass/fail status. This project focuses on **encapsulation** and **abstraction**, with a bonus component involving **composition**.\n",
    "\n",
    "---\n",
    "\n",
    "### 🔧 Features\n",
    "\n",
    "- **Attributes (in `Student` class):**\n",
    "  - `student_id`: Unique identifier for the student.\n",
    "  - `name`: Student’s full name.\n",
    "  - `grades`: Dictionary mapping course names to grades  \n",
    "    *(e.g., `{'Math': 85, 'Science': 90}`)*\n",
    "\n",
    "- **Methods:**\n",
    "  - `__init__(...)` → Initialize student with ID, name, and empty grade dictionary.\n",
    "  - `add_grade(course_name, grade)` → Add or update a grade for a course.\n",
    "  - `calculate_average()` → Return the average grade across all courses.\n",
    "  - `is_passing()` → Return `True` if average is above a set threshold (e.g., 60).\n",
    "  - `__str__()` → Return a readable summary with name, ID, and average grade.\n",
    "\n",
    "---\n",
    "\n",
    "### 🎁 Bonus: Course Class\n",
    "\n",
    "- **Course Class Attributes:**\n",
    "  - `course_name`\n",
    "  - `passing_threshold` (default: 60)\n",
    "\n",
    "- **Composition Use Case:**\n",
    "  - Associate students with `Course` objects.\n",
    "  - Allow **course-specific pass thresholds** in `is_passing(course_name)` logic.\n",
    "\n",
    "---\n",
    "\n",
    "### ✅ Learning Outcomes\n",
    "\n",
    "- ✅ **Encapsulation**: Manage and protect grade data within the class.\n",
    "- ✅ **Abstraction**: Hide internal grade processing logic behind simple methods.\n",
    "- ✅ **Composition**: Model the relationship between students and courses (bonus).\n",
    "- ✅ **Polymorphism**: Customize string representation via `__str__()`.\n",
    "\n",
    "---\n",
    "\n",
    "### 🧪 Example Usage\n",
    "```python\n",
    "s1 = Student(\"S101\", \"Alice\")\n",
    "s1.add_grade(\"Math\", 85)\n",
    "s1.add_grade(\"Science\", 90)\n",
    "\n",
    "print(s1)  # Output includes name, ID, and average grade\n",
    "print(s1.calculate_average())  # Output: 87.5\n",
    "print(s1.is_passing())  # Output: True\n",
    "\n",
    "# Bonus: Using Course class\n",
    "math_course = Course(\"Math\", passing_threshold=70)\n"
   ]
  },
  {
   "cell_type": "code",
   "execution_count": 1,
   "id": "e8a6c3c7-11b0-4181-9303-7ab4b7501214",
   "metadata": {},
   "outputs": [],
   "source": [
    "class Course:\n",
    "    def __init__(self, name, passing_threshold):\n",
    "        if not isinstance(name, str) or not name.strip():\n",
    "            raise ValueError(\"Course name must be a non-empty string.\")\n",
    "        if not isinstance(passing_threshold, (int, float)) or passing_threshold < 0 or passing_threshold > 100:\n",
    "            raise ValueError(\"Passing threshold must be between 0 and 100.\")\n",
    "        self._name = name\n",
    "        self._passing_threshold = float(passing_threshold)\n",
    "\n",
    "    def __str__(self):\n",
    "        return f\"Course({self._name}, Passing Threshold: {self._passing_threshold})\""
   ]
  },
  {
   "cell_type": "code",
   "execution_count": 2,
   "id": "a3833a8a-85e8-4d53-ade1-c0de994fd76a",
   "metadata": {},
   "outputs": [],
   "source": [
    "class Student:\n",
    "    def __init__(self, student_id, name):\n",
    "        if not isinstance(student_id, str) or not student_id:\n",
    "            raise ValueError(\"Student ID must be a non-empty string.\")\n",
    "        if not isinstance(name, str) or not name.strip():\n",
    "            raise ValueError(\"Name must be a non-empty string.\")\n",
    "        self._student_id = student_id\n",
    "        self._name = name\n",
    "        self._grades = {}\n",
    "        self._courses = {}\n",
    "\n",
    "    def add_grade(self, course, grade):\n",
    "        if not isinstance(course, Course):\n",
    "            raise TypeError(\"Course must be a Course instance.\")\n",
    "        if not isinstance(grade, (int, float)) or grade < 0 or grade > 100:\n",
    "            raise ValueError(\"Grade must be between 0 and 100.\")\n",
    "        self._grades[course._name] = float(grade)\n",
    "        self._courses[course._name] = course\n",
    "        return self\n",
    "\n",
    "    def calculate_average(self):\n",
    "        if not self._grades:\n",
    "            return 0.0\n",
    "        return sum(self._grades.values()) / len(self._grades)\n",
    "\n",
    "    def is_passing(self):\n",
    "        if not self._grades:\n",
    "            return False\n",
    "        for course_name, grade in self._grades.items():\n",
    "            course = self._courses[course_name]\n",
    "            if grade < course._passing_threshold:\n",
    "                return False\n",
    "        return True\n",
    "\n",
    "    def __str__(self):\n",
    "        avg = self.calculate_average()\n",
    "        status = \"Passing\" if self.is_passing() else \"Failing\"\n",
    "        return f\"Student({self._student_id}, {self._name}, Average: {avg:.2f}, Status: {status})\""
   ]
  },
  {
   "cell_type": "code",
   "execution_count": 4,
   "id": "9143dcb6-2198-442f-80ac-715048168058",
   "metadata": {},
   "outputs": [],
   "source": [
    "math = Course(\"Math\", 60)\n",
    "science = Course(\"Science\", 70)\n",
    "student = Student(\"S001\", \"Alice\")"
   ]
  },
  {
   "cell_type": "code",
   "execution_count": 5,
   "id": "d13d9785-aacc-4d5c-9bca-76edcbec23b5",
   "metadata": {},
   "outputs": [
    {
     "name": "stdout",
     "output_type": "stream",
     "text": [
      "Student(S001, Alice, Average: 75.00, Status: Failing)\n"
     ]
    }
   ],
   "source": [
    "student.add_grade(math, 85).add_grade(science, 65)\n",
    "print(student)"
   ]
  },
  {
   "cell_type": "code",
   "execution_count": null,
   "id": "a06cdd7d-f06e-4875-b35d-d5ed8da48902",
   "metadata": {},
   "outputs": [],
   "source": []
  }
 ],
 "metadata": {
  "kernelspec": {
   "display_name": "Python 3 (ipykernel)",
   "language": "python",
   "name": "python3"
  },
  "language_info": {
   "codemirror_mode": {
    "name": "ipython",
    "version": 3
   },
   "file_extension": ".py",
   "mimetype": "text/x-python",
   "name": "python",
   "nbconvert_exporter": "python",
   "pygments_lexer": "ipython3",
   "version": "3.12.4"
  }
 },
 "nbformat": 4,
 "nbformat_minor": 5
}
