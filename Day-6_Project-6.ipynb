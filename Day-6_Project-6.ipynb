{
 "cells": [
  {
   "cell_type": "markdown",
   "id": "854c597b-cdfc-4139-a03b-5c8479a89d95",
   "metadata": {},
   "source": [
    "## 🛒 Project 2: Online Shopping Cart\n",
    "\n",
    "### 📝 Description\n",
    "Create an **Online Shopping Cart** system where users can add or remove products and calculate the total cost. This project emphasizes **composition**, where a `ShoppingCart` is composed of multiple `Item` objects.\n",
    "\n",
    "---\n",
    "\n",
    "### 🔧 Features\n",
    "\n",
    "- **Attributes:**\n",
    "  - `items` (in `ShoppingCart`) → A list of `Item` objects representing products in the cart.\n",
    "\n",
    "- **Methods:**\n",
    "\n",
    "  - **`Item` Class:**\n",
    "    - `__init__(name, price, quantity)` → Initialize product details.\n",
    "  \n",
    "  - **`ShoppingCart` Class:**\n",
    "    - `__init__()` → Initialize an empty cart.\n",
    "    - `add_item(name, price, quantity)` → Add an item to the cart.\n",
    "    - `remove_item(name)` → Remove an item from the cart by its name.\n",
    "    - `calculate_total()` → Return total cost: `sum(price × quantity)` for all items.\n",
    "    - `__str__()` → Display all items and the total cart value.\n",
    "\n",
    "---\n",
    "\n",
    "### 🎁 Bonus: Apply Discounts\n",
    "- `apply_discount(percentage)` → Apply a discount to the cart’s total cost.\n",
    "\n",
    "---\n",
    "\n",
    "### ✅ Learning Outcomes\n",
    "\n",
    "- ✅ **Composition**: Model the relationship between a cart and its items.\n",
    "- ✅ **Encapsulation**: Manage cart contents securely within class boundaries.\n",
    "- ✅ **Abstraction**: Hide internal item-handling logic behind simple cart methods.\n",
    "- ✅ **Polymorphism**: Customize `__str__()` for readable cart summaries.\n",
    "\n",
    "---\n",
    "\n",
    "### 🧪 Example Usage\n",
    "```python\n",
    "cart = ShoppingCart()\n",
    "cart.add_item(\"Laptop\", 1000, 1)\n",
    "cart.add_item(\"Mouse\", 50, 2)\n",
    "print(cart)  # Shows item details and total\n",
    "\n",
    "cart.apply_discount(10)  # Applies 10% discount to the total\n",
    "print(cart.calculate_total())  # Updated total after discount\n"
   ]
  },
  {
   "cell_type": "code",
   "execution_count": 2,
   "id": "78bdbf67-29cb-458b-89da-45ba83139036",
   "metadata": {},
   "outputs": [],
   "source": [
    "class Item:\n",
    "    def __init__(self, name, price, quantity):\n",
    "        if not isinstance(name, str) or not name.strip():\n",
    "            raise ValueError(\"Name must be a non-empty string.\")\n",
    "        if not isinstance(price, (int, float)) or price < 0:\n",
    "            raise ValueError(\"Price must be a non-negative number.\")\n",
    "        if not isinstance(quantity, int) or quantity < 0:\n",
    "            raise ValueError(\"Quantity must be a non-negative integer.\")\n",
    "        self._name = name\n",
    "        self._price = float(price)\n",
    "        self._quantity = quantity\n",
    "\n",
    "    def get_total(self):\n",
    "        return self._price * self._quantity\n",
    "\n",
    "    def __str__(self):\n",
    "        return f\"{self._name} (Price: ${self._price:.2f}, Quantity: {self._quantity})\""
   ]
  },
  {
   "cell_type": "code",
   "execution_count": 3,
   "id": "29bf5af0-1594-4248-90c0-84d8316b7199",
   "metadata": {},
   "outputs": [],
   "source": [
    "class ShoppingCart:\n",
    "    def __init__(self):\n",
    "        self._items = []\n",
    "\n",
    "    def add_item(self, name, price, quantity):\n",
    "        item = Item(name, price, quantity)\n",
    "        self._items.append(item)\n",
    "        return self\n",
    "\n",
    "    def remove_item(self, name):\n",
    "        self._items = [item for item in self._items if item._name != name]\n",
    "        return self\n",
    "\n",
    "    def calculate_total(self):\n",
    "        return sum(item.get_total() for item in self._items)\n",
    "\n",
    "    def apply_discount(self, discount_percentage):\n",
    "        if not isinstance(discount_percentage, (int, float)) or discount_percentage < 0 or discount_percentage > 100:\n",
    "            raise ValueError(\"Discount percentage must be between 0 and 100.\")\n",
    "        total = self.calculate_total()\n",
    "        discount = total * (discount_percentage / 100)\n",
    "        return total - discount\n",
    "\n",
    "    def __str__(self):\n",
    "        if not self._items:\n",
    "            return \"ShoppingCart (Empty, Total: $0.00)\"\n",
    "        items_str = \"\\n\".join(f\" - {item}\" for item in self._items)\n",
    "        return f\"ShoppingCart:\\n{items_str}\\nTotal: ${self.calculate_total():.2f}\""
   ]
  },
  {
   "cell_type": "code",
   "execution_count": 5,
   "id": "142f9f11-39d7-4eea-8f47-b67f4e4894fe",
   "metadata": {},
   "outputs": [],
   "source": [
    "cart = ShoppingCart()"
   ]
  },
  {
   "cell_type": "code",
   "execution_count": 7,
   "id": "3201db9b-1cfa-4bbb-a2cb-6fa5a45a39fc",
   "metadata": {},
   "outputs": [
    {
     "name": "stdout",
     "output_type": "stream",
     "text": [
      "ShoppingCart:\n",
      " - Laptop (Price: $999.99, Quantity: 1)\n",
      " - Mouse (Price: $29.99, Quantity: 2)\n",
      " - Keyboard (Price: $59.99, Quantity: 1)\n",
      " - Laptop (Price: $999.99, Quantity: 1)\n",
      " - Mouse (Price: $29.99, Quantity: 2)\n",
      " - Keyboard (Price: $59.99, Quantity: 1)\n",
      "Total: $2239.92\n"
     ]
    }
   ],
   "source": [
    "cart.add_item(\"Laptop\", 999.99, 1).add_item(\"Mouse\", 29.99, 2).add_item(\"Keyboard\", 59.99, 1)\n",
    "print(cart)"
   ]
  },
  {
   "cell_type": "code",
   "execution_count": 8,
   "id": "e70c29bf-9ce4-470c-8445-c0b1fe47f9fe",
   "metadata": {},
   "outputs": [
    {
     "name": "stdout",
     "output_type": "stream",
     "text": [
      "Total after 10% discount: $2015.93\n"
     ]
    }
   ],
   "source": [
    "print(f\"Total after 10% discount: ${cart.apply_discount(10):.2f}\")"
   ]
  },
  {
   "cell_type": "code",
   "execution_count": 10,
   "id": "49a76d15-67a8-4ed1-b8d6-fc9696142e6e",
   "metadata": {},
   "outputs": [
    {
     "name": "stdout",
     "output_type": "stream",
     "text": [
      "ShoppingCart:\n",
      " - Laptop (Price: $999.99, Quantity: 1)\n",
      " - Keyboard (Price: $59.99, Quantity: 1)\n",
      " - Laptop (Price: $999.99, Quantity: 1)\n",
      " - Keyboard (Price: $59.99, Quantity: 1)\n",
      "Total: $2119.96\n"
     ]
    }
   ],
   "source": [
    "cart.remove_item(\"Mouse\")\n",
    "print(cart)"
   ]
  }
 ],
 "metadata": {
  "kernelspec": {
   "display_name": "Python 3 (ipykernel)",
   "language": "python",
   "name": "python3"
  },
  "language_info": {
   "codemirror_mode": {
    "name": "ipython",
    "version": 3
   },
   "file_extension": ".py",
   "mimetype": "text/x-python",
   "name": "python",
   "nbconvert_exporter": "python",
   "pygments_lexer": "ipython3",
   "version": "3.12.4"
  }
 },
 "nbformat": 4,
 "nbformat_minor": 5
}
