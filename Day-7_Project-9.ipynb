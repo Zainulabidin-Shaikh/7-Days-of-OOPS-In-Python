{
 "cells": [
  {
   "cell_type": "markdown",
   "id": "d8513f63-a2ee-4466-a639-5ec23fca849d",
   "metadata": {},
   "source": [
    "## 🏨 Project 2: Hotel Reservation System with Room Types\r\n",
    "\r\n",
    "### 📝 Description\r\n",
    "Develop a **Hotel Reservation System** that supports multiple room types (Standard, Deluxe), handles bookings, and enforces cancellation policies. This project introduces **inheritance**, **date-based logic**, and **state management**.\r\n",
    "\r\n",
    "---\r\n",
    "\r\n",
    "### 🔧 Features\r\n",
    "\r\n",
    "- **Classes & Responsibilities:**\r\n",
    "\r\n",
    "  - **`Room` (Base Class)**  \r\n",
    "    - Attributes: `room_number`, `price_per_night`, `is_booked`  \r\n",
    "    - Methods: Initialize, book, cancel, display details\r\n",
    "\r\n",
    "  - **`StandardRoom` (Inherits from `Room`)**  \r\n",
    "    - Basic room features and default display behavior\r\n",
    "\r\n",
    "  - **`DeluxeRoom` (Inherits from `Room`)**  \r\n",
    "    - Adds premium features (e.g., view, amenities), overrides display\r\n",
    "\r\n",
    "  - **`Reservation` Class**  \r\n",
    "    - Attributes: `reservation_id`, `guest_name`, `room`, `check_in`, `check_out`  \r\n",
    "    - Methods: Initialize reservation, cancel, display reservation\r\n",
    "\r\n",
    "  - **`Hotel` Class**  \r\n",
    "    - Attributes: `rooms` (list of `Room`), `reservations` (list of `Reservation`)  \r\n",
    "    - Methods: Add room, make/cancel reservations, check availability, display status\r\n",
    "\r\n",
    "---\r\n",
    "\r\n",
    "### 🎁 Bonus: Refund Policy\r\n",
    "\r\n",
    "- **`RefundPolicy` Class**  \r\n",
    "  - Calculates refund amount based on the number of days before check-in  \r\n",
    "  - Example: 50% refund if canceled within 7 days of check-in\r\n",
    "\r\n",
    "---\r\n",
    "\r\n",
    "### ✅ Learning Outcomes\r\n",
    "\r\n",
    "- ✅ **Practice Inheritance**  \r\n",
    "  Build a hierarchy of room types using a shared `Room` base class.\r\n",
    "\r\n",
    "- ✅ **Use Polymorphism**  \r\n",
    "  Customize room behaviors like display and pricing in subclasses.\r\n",
    "\r\n",
    "- ✅ **Apply Composition**  \r\n",
    "  Use a `Hotel` object to manage `Room` and `Reservation` instances.\r\n",
    "\r\n",
    "- ✅ **Implement Date Logic**  \r\n",
    "  Handle date-based availability and refund calculations using check-in/check-out logic.\r\n",
    "\r\n",
    "- ✅ **Handle State Management**  \r\n",
    "  Track booking status and update reservation states accurately (booked, canceled, available).\r\n",
    "\r\n",
    "---\r\n",
    "\r\n",
    "### 🧪 Example Usage\r\n",
    "```python\r\n",
    "room1 = StandardRoom(101, 100)\r\n",
    "room2 = DeluxeRoom(102, 150)\r\n",
    "hotel = Hotel()\r\n",
    "hotel.add_room(room1)\r\n",
    "hotel.add_room(room2)\r\n",
    "\r\n",
    "res1 = Reservation(\"R001\", \"Alice\", room1, \"2025-06-01\", \"2025-06-05\")\r\n",
    "hotel.make_reservation(res1)\r\n",
    "\r\n",
    "print(room1.is_booked)  # rue\r\n",
    "hotel.cancel_reservation(\"R001\")\r\n",
    "print(room1.is_booked)  # False\r\n"
   ]
  },
  {
   "cell_type": "code",
   "execution_count": 93,
   "id": "904612d0-b2a2-4710-8e91-9159bd3f5956",
   "metadata": {},
   "outputs": [],
   "source": [
    "class Room:\n",
    "    def __init__(self, room_number, price_per_night):\n",
    "\n",
    "        self._room_number = room_number\n",
    "        self._price_per_night = float(price_per_night)\n",
    "        self._is_booked = False\n",
    "\n",
    "    def book(self):\n",
    "        if self._is_booked:\n",
    "            raise ValueError(\"Room is already booked.\")\n",
    "        self._is_booked = True\n",
    "        return \"Booked Successful\"\n",
    "\n",
    "    def cancel(self):\n",
    "        if not self._is_booked:\n",
    "            raise ValueError(\"Room is not booked.\")\n",
    "        self._is_booked = False\n",
    "        return \"Cancelled!\"\n",
    "\n",
    "    def __str__(self):\n",
    "        status = \"Booked\" if self._is_booked else \"Available\"\n",
    "        return f\"Room({self._room_number}, Price: ${self._price_per_night:.2f}, Status: {status})\"\n",
    "\n",
    "class StandardRoom(Room):\n",
    "    def __str__(self):\n",
    "        return f\"Standard {super().__str__()}\"\n",
    "\n",
    "class DeluxeRoom(Room):\n",
    "    def __init__(self, room_number, price_per_night, has_view = True):\n",
    "        super().__init__(room_number, price_per_night)\n",
    "        self._has_view = bool(has_view)\n",
    "\n",
    "    def __str__(self):\n",
    "        view = \"with view\"\n",
    "        return f\"Deluxe {super().__str__()}, {view}\" "
   ]
  },
  {
   "cell_type": "code",
   "execution_count": 94,
   "id": "1f73ca38-b202-4fb2-80b9-660d313d2c59",
   "metadata": {},
   "outputs": [],
   "source": [
    "r1 = Room(101,100)"
   ]
  },
  {
   "cell_type": "code",
   "execution_count": 95,
   "id": "356db624-06c1-465c-b602-b0875ccfaa01",
   "metadata": {},
   "outputs": [
    {
     "data": {
      "text/plain": [
       "'Booked Successful'"
      ]
     },
     "execution_count": 95,
     "metadata": {},
     "output_type": "execute_result"
    }
   ],
   "source": [
    "r1.book()"
   ]
  },
  {
   "cell_type": "code",
   "execution_count": 96,
   "id": "110c653f-2b6a-44aa-ac38-c9e027a444d7",
   "metadata": {},
   "outputs": [
    {
     "data": {
      "text/plain": [
       "'Cancelled!'"
      ]
     },
     "execution_count": 96,
     "metadata": {},
     "output_type": "execute_result"
    }
   ],
   "source": [
    "r1.cancel()"
   ]
  },
  {
   "cell_type": "code",
   "execution_count": 97,
   "id": "ed3d5d5b-a5ad-4470-92a9-b2fc58b4863a",
   "metadata": {},
   "outputs": [
    {
     "name": "stdout",
     "output_type": "stream",
     "text": [
      "Room(101, Price: $100.00, Status: Available)\n"
     ]
    }
   ],
   "source": [
    "print(r1)"
   ]
  },
  {
   "cell_type": "code",
   "execution_count": 98,
   "id": "9f632ad1-5ccb-4185-8f4a-9108e821b4c8",
   "metadata": {},
   "outputs": [
    {
     "data": {
      "text/plain": [
       "'Booked Successful'"
      ]
     },
     "execution_count": 98,
     "metadata": {},
     "output_type": "execute_result"
    }
   ],
   "source": [
    "r1.book()"
   ]
  },
  {
   "cell_type": "code",
   "execution_count": 99,
   "id": "e7768865-ec4d-4903-a1f2-658fd116d109",
   "metadata": {},
   "outputs": [
    {
     "name": "stdout",
     "output_type": "stream",
     "text": [
      "Room(101, Price: $100.00, Status: Booked)\n"
     ]
    }
   ],
   "source": [
    "print(r1)"
   ]
  },
  {
   "cell_type": "code",
   "execution_count": 100,
   "id": "a5a93c96-ad07-4e20-9b36-791787c5f60f",
   "metadata": {},
   "outputs": [],
   "source": [
    "r2 = StandardRoom(102,150)"
   ]
  },
  {
   "cell_type": "code",
   "execution_count": 101,
   "id": "74584c68-e8a6-4f8a-9884-a2e3126132f3",
   "metadata": {},
   "outputs": [
    {
     "name": "stdout",
     "output_type": "stream",
     "text": [
      "Standard Room(102, Price: $150.00, Status: Available)\n"
     ]
    }
   ],
   "source": [
    "print(r2)"
   ]
  },
  {
   "cell_type": "code",
   "execution_count": 102,
   "id": "36c76ef2-89b5-4ce4-b261-e5c07fb520b6",
   "metadata": {},
   "outputs": [
    {
     "data": {
      "text/plain": [
       "'Booked Successful'"
      ]
     },
     "execution_count": 102,
     "metadata": {},
     "output_type": "execute_result"
    }
   ],
   "source": [
    "r2.book()"
   ]
  },
  {
   "cell_type": "code",
   "execution_count": 103,
   "id": "b6326b12-5e5c-4149-867f-64ece2a05034",
   "metadata": {},
   "outputs": [
    {
     "name": "stdout",
     "output_type": "stream",
     "text": [
      "Standard Room(102, Price: $150.00, Status: Booked)\n"
     ]
    }
   ],
   "source": [
    "print(r2)"
   ]
  },
  {
   "cell_type": "code",
   "execution_count": 104,
   "id": "801bad42-a664-4b6e-ac8f-cdffebb96223",
   "metadata": {},
   "outputs": [],
   "source": [
    "r3 = DeluxeRoom(103,200)"
   ]
  },
  {
   "cell_type": "code",
   "execution_count": 105,
   "id": "ef322aea-a11a-4bbe-bcf9-4c4b79e201d7",
   "metadata": {},
   "outputs": [
    {
     "name": "stdout",
     "output_type": "stream",
     "text": [
      "Deluxe Room(103, Price: $200.00, Status: Available), with view\n"
     ]
    }
   ],
   "source": [
    "print(r3)"
   ]
  },
  {
   "cell_type": "code",
   "execution_count": 106,
   "id": "255e2248-39ba-4c93-ba94-130ef426c572",
   "metadata": {},
   "outputs": [
    {
     "data": {
      "text/plain": [
       "'Booked Successful'"
      ]
     },
     "execution_count": 106,
     "metadata": {},
     "output_type": "execute_result"
    }
   ],
   "source": [
    "r3.book()"
   ]
  },
  {
   "cell_type": "code",
   "execution_count": 107,
   "id": "72ad3b02-bbb4-4145-9fc4-564014dbf570",
   "metadata": {},
   "outputs": [
    {
     "name": "stdout",
     "output_type": "stream",
     "text": [
      "Deluxe Room(103, Price: $200.00, Status: Booked), with view\n"
     ]
    }
   ],
   "source": [
    "print(r3)"
   ]
  },
  {
   "cell_type": "code",
   "execution_count": 121,
   "id": "20dfe4e6-5e64-4bae-8aae-010f28cc3d1f",
   "metadata": {},
   "outputs": [],
   "source": [
    "class Reservation:\n",
    "    def __init__(self, reservation_id, guest_name, room, check_in, check_out):\n",
    "    \n",
    "        if not isinstance(room, Room):\n",
    "            raise TypeError(\"Room must be a Room instance.\")\n",
    "        self._reservation_id = reservation_id\n",
    "        self._guest_name = guest_name\n",
    "        self._room = room\n",
    "        self._check_in = check_in\n",
    "        self._check_out = check_out\n",
    "        self._is_active = True\n",
    "        room.book()\n",
    "\n",
    "    def cancel(self):\n",
    "        if not self._is_active:\n",
    "            raise ValueError(\"Reservation already canceled.\")\n",
    "        self._is_active = False\n",
    "        self._room.cancel()\n",
    "        return \"reservation cancelled!\"\n",
    "\n",
    "    def __str__(self):\n",
    "        status = \"Active\" if self._is_active else \"Canceled\"\n",
    "        return f\"Reservation({self._reservation_id}, {self._guest_name}, {self._check_in} to {self._check_out}, Status: {status})\""
   ]
  },
  {
   "cell_type": "code",
   "execution_count": 122,
   "id": "67eb9dc3-d66a-438e-89c3-5d7772e97c76",
   "metadata": {},
   "outputs": [],
   "source": [
    "room_for_reservation = Room(101,100)"
   ]
  },
  {
   "cell_type": "code",
   "execution_count": 123,
   "id": "d6711800-ca30-4400-8260-cddaeeb4006c",
   "metadata": {},
   "outputs": [],
   "source": [
    "rs1 = Reservation(\"001\",\"Zain\",room_for_reservation,\"2025-06-01\",\"2025-06-05\")"
   ]
  },
  {
   "cell_type": "code",
   "execution_count": 124,
   "id": "2cef5bc3-fad2-4759-a307-dfb09501562d",
   "metadata": {},
   "outputs": [
    {
     "name": "stdout",
     "output_type": "stream",
     "text": [
      "Reservation(001, Zain, 2025-06-01 to 2025-06-05, Status: Active)\n"
     ]
    }
   ],
   "source": [
    "print(rs1)"
   ]
  },
  {
   "cell_type": "code",
   "execution_count": 125,
   "id": "c9830038-e545-449e-b891-9433ce9ee82b",
   "metadata": {},
   "outputs": [
    {
     "data": {
      "text/plain": [
       "'reservation cancelled!'"
      ]
     },
     "execution_count": 125,
     "metadata": {},
     "output_type": "execute_result"
    }
   ],
   "source": [
    "rs1.cancel()"
   ]
  },
  {
   "cell_type": "code",
   "execution_count": 131,
   "id": "4a6de7db-2665-4675-819a-90d5cc94bd36",
   "metadata": {},
   "outputs": [
    {
     "name": "stdout",
     "output_type": "stream",
     "text": [
      "Reservation(001, Zain, 2025-06-01 to 2025-06-05, Status: Canceled)\n"
     ]
    }
   ],
   "source": [
    "print(rs1)"
   ]
  },
  {
   "cell_type": "code",
   "execution_count": 146,
   "id": "f262cee7-0d9a-48f1-9a5f-874217c56b21",
   "metadata": {},
   "outputs": [],
   "source": [
    "class RefundPolicy:\n",
    "    def __init__(self, refund_percentage=50, min_days_before_for_refund=7):\n",
    "        self._refund_percentage = refund_percentage\n",
    "        self._min_days_before_for_refund = min_days_before_for_refund\n",
    "\n",
    "    def calculate_refund(self, check_in_date, cancel_date, total_amount):\n",
    "        from datetime import datetime\n",
    "        check_in_dt = datetime.strptime(check_in_date, \"%Y-%m-%d\")\n",
    "        cancel_dt = datetime.strptime(cancel_date, \"%Y-%m-%d\")\n",
    "        if cancel_dt >= check_in_dt:\n",
    "            raise ValueError(\"Cannot cancel on or after check-in date.\")\n",
    "        days_before = (check_in_dt - cancel_dt).days\n",
    "        if days_before < self._min_days_before_for_refund:\n",
    "            return 0.0\n",
    "        return total_amount * (self._refund_percentage / 100)"
   ]
  },
  {
   "cell_type": "code",
   "execution_count": 147,
   "id": "ff8968c8-3b33-49dd-8a60-ae0279e22cbd",
   "metadata": {},
   "outputs": [],
   "source": [
    "rs1 = RefundPolicy()"
   ]
  },
  {
   "cell_type": "code",
   "execution_count": 149,
   "id": "1aa8ae85-6342-47fc-b821-6880b8876403",
   "metadata": {},
   "outputs": [
    {
     "data": {
      "text/plain": [
       "0.0"
      ]
     },
     "execution_count": 149,
     "metadata": {},
     "output_type": "execute_result"
    }
   ],
   "source": [
    "rs1.calculate_refund(\"2025-06-01\",\"2025-05-30\",100)"
   ]
  },
  {
   "cell_type": "code",
   "execution_count": 150,
   "id": "12fd805c-2a8f-41f3-88c7-9322f5770411",
   "metadata": {},
   "outputs": [
    {
     "ename": "ValueError",
     "evalue": "Cannot cancel on or after check-in date.",
     "output_type": "error",
     "traceback": [
      "\u001b[1;31m---------------------------------------------------------------------------\u001b[0m",
      "\u001b[1;31mValueError\u001b[0m                                Traceback (most recent call last)",
      "Cell \u001b[1;32mIn[150], line 1\u001b[0m\n\u001b[1;32m----> 1\u001b[0m \u001b[43mrs1\u001b[49m\u001b[38;5;241;43m.\u001b[39;49m\u001b[43mcalculate_refund\u001b[49m\u001b[43m(\u001b[49m\u001b[38;5;124;43m\"\u001b[39;49m\u001b[38;5;124;43m2025-06-01\u001b[39;49m\u001b[38;5;124;43m\"\u001b[39;49m\u001b[43m,\u001b[49m\u001b[38;5;124;43m\"\u001b[39;49m\u001b[38;5;124;43m2025-06-05\u001b[39;49m\u001b[38;5;124;43m\"\u001b[39;49m\u001b[43m,\u001b[49m\u001b[38;5;241;43m100\u001b[39;49m\u001b[43m)\u001b[49m\n",
      "Cell \u001b[1;32mIn[146], line 11\u001b[0m, in \u001b[0;36mRefundPolicy.calculate_refund\u001b[1;34m(self, check_in_date, cancel_date, total_amount)\u001b[0m\n\u001b[0;32m      9\u001b[0m cancel_dt \u001b[38;5;241m=\u001b[39m datetime\u001b[38;5;241m.\u001b[39mstrptime(cancel_date, \u001b[38;5;124m\"\u001b[39m\u001b[38;5;124m%\u001b[39m\u001b[38;5;124mY-\u001b[39m\u001b[38;5;124m%\u001b[39m\u001b[38;5;124mm-\u001b[39m\u001b[38;5;132;01m%d\u001b[39;00m\u001b[38;5;124m\"\u001b[39m)\n\u001b[0;32m     10\u001b[0m \u001b[38;5;28;01mif\u001b[39;00m cancel_dt \u001b[38;5;241m>\u001b[39m\u001b[38;5;241m=\u001b[39m check_in_dt:\n\u001b[1;32m---> 11\u001b[0m     \u001b[38;5;28;01mraise\u001b[39;00m \u001b[38;5;167;01mValueError\u001b[39;00m(\u001b[38;5;124m\"\u001b[39m\u001b[38;5;124mCannot cancel on or after check-in date.\u001b[39m\u001b[38;5;124m\"\u001b[39m)\n\u001b[0;32m     12\u001b[0m days_before \u001b[38;5;241m=\u001b[39m (check_in_dt \u001b[38;5;241m-\u001b[39m cancel_dt)\u001b[38;5;241m.\u001b[39mdays\n\u001b[0;32m     13\u001b[0m \u001b[38;5;28;01mif\u001b[39;00m days_before \u001b[38;5;241m<\u001b[39m \u001b[38;5;28mself\u001b[39m\u001b[38;5;241m.\u001b[39m_min_days_before_for_refund:\n",
      "\u001b[1;31mValueError\u001b[0m: Cannot cancel on or after check-in date."
     ]
    }
   ],
   "source": [
    "rs1.calculate_refund(\"2025-06-01\",\"2025-06-05\",100)"
   ]
  },
  {
   "cell_type": "code",
   "execution_count": 151,
   "id": "5be8db29-b051-4b17-b9ca-2651a8f02d05",
   "metadata": {},
   "outputs": [
    {
     "data": {
      "text/plain": [
       "50.0"
      ]
     },
     "execution_count": 151,
     "metadata": {},
     "output_type": "execute_result"
    }
   ],
   "source": [
    "rs1.calculate_refund(\"2025-06-01\",\"2025-05-20\",100)"
   ]
  },
  {
   "cell_type": "code",
   "execution_count": 155,
   "id": "87b24be5-87da-44d8-8164-5669b88c504a",
   "metadata": {},
   "outputs": [],
   "source": [
    "class Hotel:\n",
    "    def __init__(self):\n",
    "        self._rooms = []\n",
    "        self._reservations = []\n",
    "        self._refund_policy = RefundPolicy()\n",
    "\n",
    "    def add_room(self, room):\n",
    "        if not isinstance(room, Room):\n",
    "            raise TypeError(\"Can only add Room instances.\")\n",
    "        self._rooms.append(room)\n",
    "        return self\n",
    "\n",
    "    def make_reservation(self, reservation_id, guest_name, room_number, check_in, check_out):\n",
    "        room = next((r for r in self._rooms if r._room_number == room_number), None)\n",
    "        if not room:\n",
    "            raise ValueError(\"Room not found.\")\n",
    "        reservation = Reservation(reservation_id, guest_name, room, check_in, check_out)\n",
    "        self._reservations.append(reservation)\n",
    "        return \"reservation done!\"\n",
    "\n",
    "    def cancel_reservation(self, reservation_id, cancel_date):\n",
    "        reservation = next((r for r in self._reservations if r._reservation_id == reservation_id), None)\n",
    "        if not reservation:\n",
    "            raise ValueError(\"Reservation not found.\")\n",
    "        reservation.cancel()\n",
    "        from datetime import datetime\n",
    "        check_out_dt = datetime.strptime(reservation._check_out, \"%Y-%m-%d\")\n",
    "        check_in_dt = datetime.strptime(reservation._check_in, \"%Y-%m-%d\")\n",
    "        days = (check_out_dt - check_in_dt).days\n",
    "        total_amount = days * reservation._room._price_per_night\n",
    "        refund = self._refund_policy.calculate_refund(reservation._check_in, cancel_date, total_amount)\n",
    "        if refund > 0:\n",
    "            print(f\"Refund amount: ${refund:.2f}\")\n",
    "        else:\n",
    "            print(\"No refund due to late cancellation.\")\n",
    "        return self\n",
    "\n",
    "    def __str__(self):\n",
    "        return f\"Hotel(Rooms: {len(self._rooms)}, Reservations: {len([r for r in self._reservations if r._is_active])})\""
   ]
  },
  {
   "cell_type": "code",
   "execution_count": 156,
   "id": "d3695a08-d157-4164-a600-f93aba8f4849",
   "metadata": {},
   "outputs": [],
   "source": [
    "hotel = Hotel()\n",
    "standard_room = StandardRoom(\"101\", 100.0)\n",
    "deluxe_room = DeluxeRoom(\"201\", 200.0, True)"
   ]
  },
  {
   "cell_type": "code",
   "execution_count": 157,
   "id": "97e1ba8a-9cf3-44c4-89b0-381d97e08c0e",
   "metadata": {},
   "outputs": [
    {
     "name": "stdout",
     "output_type": "stream",
     "text": [
      "Hotel(Rooms: 2, Reservations: 0)\n"
     ]
    }
   ],
   "source": [
    "hotel.add_room(standard_room).add_room(deluxe_room)\n",
    "print(hotel)"
   ]
  },
  {
   "cell_type": "code",
   "execution_count": 158,
   "id": "b8977715-97e6-44fd-a0c1-bdee1ddeb5dd",
   "metadata": {},
   "outputs": [
    {
     "data": {
      "text/plain": [
       "'reservation done!'"
      ]
     },
     "execution_count": 158,
     "metadata": {},
     "output_type": "execute_result"
    }
   ],
   "source": [
    "hotel.make_reservation(\"R001\", \"Alice\", \"101\", \"2025-06-01\", \"2025-06-05\")\n",
    "hotel.make_reservation(\"R002\", \"Bob\", \"201\", \"2025-06-01\", \"2025-06-03\")"
   ]
  },
  {
   "cell_type": "code",
   "execution_count": 159,
   "id": "f134d36a-b4a8-45c1-860e-66adfcc8bd96",
   "metadata": {},
   "outputs": [
    {
     "name": "stdout",
     "output_type": "stream",
     "text": [
      "Hotel(Rooms: 2, Reservations: 2)\n",
      "Standard Room(101, Price: $100.00, Status: Booked)\n",
      "Deluxe Room(201, Price: $200.00, Status: Booked), with view\n"
     ]
    }
   ],
   "source": [
    "print(hotel)\n",
    "print(standard_room)\n",
    "print(deluxe_room)"
   ]
  },
  {
   "cell_type": "code",
   "execution_count": 160,
   "id": "f39e31d4-62fe-487e-8107-3ec67213ac17",
   "metadata": {},
   "outputs": [
    {
     "name": "stdout",
     "output_type": "stream",
     "text": [
      "Refund amount: $200.00\n"
     ]
    },
    {
     "data": {
      "text/plain": [
       "<__main__.Hotel at 0x1ba73cbe960>"
      ]
     },
     "execution_count": 160,
     "metadata": {},
     "output_type": "execute_result"
    }
   ],
   "source": [
    "hotel.cancel_reservation(\"R001\", \"2025-05-20\")"
   ]
  },
  {
   "cell_type": "code",
   "execution_count": 161,
   "id": "658de584-1f93-4368-9000-aaddab50ddda",
   "metadata": {},
   "outputs": [
    {
     "name": "stdout",
     "output_type": "stream",
     "text": [
      "Hotel(Rooms: 2, Reservations: 1)\n",
      "Standard Room(101, Price: $100.00, Status: Available)\n"
     ]
    }
   ],
   "source": [
    "print(hotel)\n",
    "print(standard_room)"
   ]
  },
  {
   "cell_type": "code",
   "execution_count": null,
   "id": "787a7aca-91a2-4f6f-aa6b-f010b33e8630",
   "metadata": {},
   "outputs": [],
   "source": []
  }
 ],
 "metadata": {
  "kernelspec": {
   "display_name": "Python 3 (ipykernel)",
   "language": "python",
   "name": "python3"
  },
  "language_info": {
   "codemirror_mode": {
    "name": "ipython",
    "version": 3
   },
   "file_extension": ".py",
   "mimetype": "text/x-python",
   "name": "python",
   "nbconvert_exporter": "python",
   "pygments_lexer": "ipython3",
   "version": "3.12.4"
  }
 },
 "nbformat": 4,
 "nbformat_minor": 5
}
