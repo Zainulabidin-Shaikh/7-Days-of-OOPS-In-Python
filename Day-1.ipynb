{
 "cells": [
  {
   "cell_type": "code",
   "execution_count": 7,
   "id": "d58a67c4-9135-4007-b0bc-f22500088248",
   "metadata": {},
   "outputs": [],
   "source": [
    "class Student:\n",
    "    def __init__():  # given 0 arguments (mandatory 1)\n",
    "        print(\"I will get called automatically when create an object\")"
   ]
  },
  {
   "cell_type": "code",
   "execution_count": 8,
   "id": "14d84736-2159-4bcf-83b3-ff6df8a8ab68",
   "metadata": {},
   "outputs": [
    {
     "ename": "TypeError",
     "evalue": "Student.__init__() takes 0 positional arguments but 1 was given",
     "output_type": "error",
     "traceback": [
      "\u001b[1;31m---------------------------------------------------------------------------\u001b[0m",
      "\u001b[1;31mTypeError\u001b[0m                                 Traceback (most recent call last)",
      "Cell \u001b[1;32mIn[8], line 1\u001b[0m\n\u001b[1;32m----> 1\u001b[0m s1 \u001b[38;5;241m=\u001b[39m \u001b[43mStudent\u001b[49m\u001b[43m(\u001b[49m\u001b[43m)\u001b[49m\n",
      "\u001b[1;31mTypeError\u001b[0m: Student.__init__() takes 0 positional arguments but 1 was given"
     ]
    }
   ],
   "source": [
    "s1 = Student()"
   ]
  },
  {
   "cell_type": "code",
   "execution_count": null,
   "id": "e039ccda-791b-4c89-ade7-4874c857faa8",
   "metadata": {},
   "outputs": [],
   "source": [
    "# TypeError: Student.__init__() takes 0 positional arguments but 1 was given\n",
    "# that one argument here is id(s1)"
   ]
  },
  {
   "cell_type": "code",
   "execution_count": 11,
   "id": "b2fdaae3-f603-43f8-b412-1a1ef7a595e3",
   "metadata": {},
   "outputs": [
    {
     "data": {
      "text/plain": [
       "2450845724368"
      ]
     },
     "execution_count": 11,
     "metadata": {},
     "output_type": "execute_result"
    }
   ],
   "source": [
    "id(s1)"
   ]
  },
  {
   "cell_type": "code",
   "execution_count": 9,
   "id": "c990d31f-4925-468c-b4d5-b16a2dc96d6c",
   "metadata": {},
   "outputs": [],
   "source": [
    "class Student:\n",
    "    def __init__(arg):  # given 1 argument (arg)\n",
    "        print(\"I will get called automatically when create an object\")"
   ]
  },
  {
   "cell_type": "code",
   "execution_count": 10,
   "id": "b6fe1511-bea5-4cf9-9770-6d203bf1a7d7",
   "metadata": {},
   "outputs": [
    {
     "name": "stdout",
     "output_type": "stream",
     "text": [
      "I will get called automatically when create an object\n"
     ]
    }
   ],
   "source": [
    "s1 = Student()"
   ]
  },
  {
   "cell_type": "code",
   "execution_count": null,
   "id": "0051553a-174c-42e2-b26a-5aabf5fc67c0",
   "metadata": {},
   "outputs": [],
   "source": []
  },
  {
   "cell_type": "code",
   "execution_count": 13,
   "id": "a4d6c5e4-afea-417f-88bf-c92d3073d07e",
   "metadata": {},
   "outputs": [],
   "source": [
    "class Student:\n",
    "    def __init__(arg):  # given 1 argument (arg)\n",
    "        print(id(arg)) # here we are checking the id of the argument\n",
    "        print(\"I will get called automatically when create an object\")"
   ]
  },
  {
   "cell_type": "code",
   "execution_count": 14,
   "id": "aa7f5a4c-d968-46da-a91e-5ec6a09f9414",
   "metadata": {},
   "outputs": [
    {
     "name": "stdout",
     "output_type": "stream",
     "text": [
      "2450845713040\n",
      "I will get called automatically when create an object\n"
     ]
    }
   ],
   "source": [
    "s1 = Student()"
   ]
  },
  {
   "cell_type": "code",
   "execution_count": null,
   "id": "a2857090-02a5-47cf-be8a-6920d295e6cf",
   "metadata": {},
   "outputs": [],
   "source": [
    "# we can see that id of s1 and the id of arg is same so it means that \n",
    "# when we create an object the id of that is the argument that given to the constructor automatically"
   ]
  },
  {
   "cell_type": "code",
   "execution_count": 1,
   "id": "3ca3594f-5e4d-4cea-826d-0029ad6fa859",
   "metadata": {},
   "outputs": [],
   "source": [
    "class Student:\n",
    "    def __init__(self):\n",
    "        print(\"My first Class\")"
   ]
  },
  {
   "cell_type": "code",
   "execution_count": 2,
   "id": "1d0d3948-8a4d-40f0-be4c-81aa56d9ff87",
   "metadata": {},
   "outputs": [
    {
     "name": "stdout",
     "output_type": "stream",
     "text": [
      "My first Class\n"
     ]
    }
   ],
   "source": [
    "s1 = Student()"
   ]
  }
 ],
 "metadata": {
  "kernelspec": {
   "display_name": "Python 3 (ipykernel)",
   "language": "python",
   "name": "python3"
  },
  "language_info": {
   "codemirror_mode": {
    "name": "ipython",
    "version": 3
   },
   "file_extension": ".py",
   "mimetype": "text/x-python",
   "name": "python",
   "nbconvert_exporter": "python",
   "pygments_lexer": "ipython3",
   "version": "3.12.4"
  }
 },
 "nbformat": 4,
 "nbformat_minor": 5
}
